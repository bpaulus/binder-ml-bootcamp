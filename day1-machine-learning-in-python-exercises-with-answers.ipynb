{
 "cells": [
  {
   "cell_type": "markdown",
   "metadata": {},
   "source": [
    "# Day 1 Machine learning in Python - Exercises with answers"
   ]
  },
  {
   "cell_type": "markdown",
   "metadata": {},
   "source": [
    "## Exercise 1"
   ]
  },
  {
   "cell_type": "markdown",
   "metadata": {},
   "source": [
    "#### Question 1\n",
    "##### Import the required packages.\n",
    "##### Set the working directory to data directory.\n",
    "##### Print the working directory and the plot directory."
   ]
  },
  {
   "cell_type": "markdown",
   "metadata": {},
   "source": [
    "#### Answer: "
   ]
  },
  {
   "cell_type": "code",
   "execution_count": 2,
   "metadata": {},
   "outputs": [],
   "source": [
    "import os\n",
    "from pathlib import Path\n",
    "import pandas as pd\n",
    "import numpy as np\n",
    "import matplotlib.pyplot as plt\n",
    "from mpl_toolkits.mplot3d import Axes3D\n",
    "import sklearn\n",
    "from sklearn import cluster\n",
    "from sklearn.cluster import KMeans\n",
    "from sklearn.preprocessing import MinMaxScaler\n",
    "from scipy.cluster.vq import kmeans\n",
    "from scipy.spatial.distance import cdist,pdist\n",
    "from matplotlib import cm"
   ]
  },
  {
   "cell_type": "code",
   "execution_count": 3,
   "metadata": {},
   "outputs": [],
   "source": [
    "# Set `home_dir` to the root directory of your computer.\n",
    "home_dir = Path.home()\n",
    "\n",
    "# Set `main_dir` to the location of your `skillsoft-intro-to-machine-learning-in-python` folder.\n",
    "main_dir = home_dir / \"Desktop\" / \"skillsoft-intro-to-machine-learning-in-python\"\n",
    "\n",
    "# Make `data_dir` from the `main_dir` and remainder of the path to data directory.\n",
    "data_dir = main_dir / \"data\"\n",
    "\n",
    "# Create a plot directory to save our plots\n",
    "plot_dir = main_dir / \"plots\""
   ]
  },
  {
   "cell_type": "code",
   "execution_count": 4,
   "metadata": {},
   "outputs": [
    {
     "ename": "FileNotFoundError",
     "evalue": "[Errno 2] No such file or directory: '/Users/bnpaulus/Desktop/skillsoft-intro-to-machine-learning-in-python/data'",
     "output_type": "error",
     "traceback": [
      "\u001b[0;31m---------------------------------------------------------------------------\u001b[0m",
      "\u001b[0;31mFileNotFoundError\u001b[0m                         Traceback (most recent call last)",
      "\u001b[0;32m<ipython-input-4-00611727473d>\u001b[0m in \u001b[0;36m<module>\u001b[0;34m\u001b[0m\n\u001b[1;32m      1\u001b[0m \u001b[0;31m# Set working directory.\u001b[0m\u001b[0;34m\u001b[0m\u001b[0;34m\u001b[0m\u001b[0;34m\u001b[0m\u001b[0m\n\u001b[0;32m----> 2\u001b[0;31m \u001b[0mos\u001b[0m\u001b[0;34m.\u001b[0m\u001b[0mchdir\u001b[0m\u001b[0;34m(\u001b[0m\u001b[0mdata_dir\u001b[0m\u001b[0;34m)\u001b[0m\u001b[0;34m\u001b[0m\u001b[0;34m\u001b[0m\u001b[0m\n\u001b[0m",
      "\u001b[0;31mFileNotFoundError\u001b[0m: [Errno 2] No such file or directory: '/Users/bnpaulus/Desktop/skillsoft-intro-to-machine-learning-in-python/data'"
     ]
    }
   ],
   "source": [
    "# Set working directory.\n",
    "os.chdir(data_dir)"
   ]
  },
  {
   "cell_type": "code",
   "execution_count": null,
   "metadata": {},
   "outputs": [],
   "source": [
    "# Check working directory.\n",
    "print(os.getcwd())"
   ]
  },
  {
   "cell_type": "markdown",
   "metadata": {},
   "source": [
    "#### Question 2\n",
    "\n",
    "##### Load the dataset `fast_food_data.csv` and save it as `ex_subset`.\n",
    "\n",
    "##### Print the first few rows of `ex_subset` and its summary using describe().\n",
    "\n",
    "##### Drop all the non-numerical columns from `ex_subset` and print the few rows again to see what the dataframe looks like."
   ]
  },
  {
   "cell_type": "markdown",
   "metadata": {},
   "source": [
    "#### Answer: "
   ]
  },
  {
   "cell_type": "code",
   "execution_count": null,
   "metadata": {},
   "outputs": [],
   "source": [
    "ex_subset = pd.read_csv(\"fast_food_data.csv\")"
   ]
  },
  {
   "cell_type": "code",
   "execution_count": null,
   "metadata": {},
   "outputs": [],
   "source": [
    "ex_subset.head()"
   ]
  },
  {
   "cell_type": "code",
   "execution_count": null,
   "metadata": {},
   "outputs": [],
   "source": [
    "ex_subset.info()"
   ]
  },
  {
   "cell_type": "code",
   "execution_count": null,
   "metadata": {},
   "outputs": [],
   "source": [
    "ex_subset = ex_subset.drop(['Fast Food Restaurant','Item', 'Type'], axis = 1)"
   ]
  },
  {
   "cell_type": "code",
   "execution_count": null,
   "metadata": {},
   "outputs": [],
   "source": [
    "ex_subset.head()"
   ]
  },
  {
   "cell_type": "markdown",
   "metadata": {},
   "source": [
    "#### Question 3\n",
    "\n",
    "##### Check how many NAs are in each column and impute them with mean. \n",
    "\n",
    "##### For clustering, we will be using just the `Calories` and `Sodium (mg)` columns. Drop all the other columns from `ex_subset` and name the new dataset as `ex_cluster`. \n",
    "\n",
    "##### Print the first few rows of `ex_cluster` to make sure we have the correct dataset."
   ]
  },
  {
   "cell_type": "markdown",
   "metadata": {},
   "source": [
    "#### Answer: "
   ]
  },
  {
   "cell_type": "code",
   "execution_count": null,
   "metadata": {},
   "outputs": [],
   "source": [
    "print(ex_subset.isnull().sum())"
   ]
  },
  {
   "cell_type": "code",
   "execution_count": null,
   "metadata": {},
   "outputs": [],
   "source": [
    "ex_subset = ex_subset.fillna(ex_subset.mean())"
   ]
  },
  {
   "cell_type": "code",
   "execution_count": null,
   "metadata": {},
   "outputs": [],
   "source": [
    "ex_subset.isnull().sum()"
   ]
  },
  {
   "cell_type": "code",
   "execution_count": null,
   "metadata": {},
   "outputs": [],
   "source": [
    "ex_cluster = ex_subset[['Calories', 'Sodium (mg)']]\n",
    "print(ex_cluster.head())"
   ]
  },
  {
   "cell_type": "markdown",
   "metadata": {},
   "source": [
    "#### Question 4\n",
    "\n",
    "##### In the dataset `ex_cluster`, check the data types for all of the columns. \n",
    "##### After making sure that all the data is numeric, scale the dataset and name it `ex_cluster_scaled`.\n",
    "##### When the dataset is scaled, convert `ex_cluster_scaled` back to a pandas dataframe and make sure to name the columns again. \n",
    "\n",
    "##### Print out the first few rows of `ex_cluster_scaled` to make sure the column names are correct and are ready for clustering."
   ]
  },
  {
   "cell_type": "markdown",
   "metadata": {},
   "source": [
    "#### Answer: "
   ]
  },
  {
   "cell_type": "code",
   "execution_count": null,
   "metadata": {},
   "outputs": [],
   "source": [
    "ex_cluster.dtypes"
   ]
  },
  {
   "cell_type": "code",
   "execution_count": null,
   "metadata": {},
   "outputs": [],
   "source": [
    "scaler = MinMaxScaler()\n",
    "ex_cluster_scaled = scaler.fit_transform(ex_cluster)"
   ]
  },
  {
   "cell_type": "code",
   "execution_count": 1,
   "metadata": {},
   "outputs": [
    {
     "ename": "NameError",
     "evalue": "name 'pd' is not defined",
     "output_type": "error",
     "traceback": [
      "\u001b[0;31m---------------------------------------------------------------------------\u001b[0m",
      "\u001b[0;31mNameError\u001b[0m                                 Traceback (most recent call last)",
      "\u001b[0;32m<ipython-input-1-69ae877ac33a>\u001b[0m in \u001b[0;36m<module>\u001b[0;34m\u001b[0m\n\u001b[0;32m----> 1\u001b[0;31m \u001b[0mex_kmeans\u001b[0m \u001b[0;34m=\u001b[0m \u001b[0mpd\u001b[0m\u001b[0;34m.\u001b[0m\u001b[0mDataFrame\u001b[0m\u001b[0;34m(\u001b[0m\u001b[0mex_cluster_scaled\u001b[0m\u001b[0;34m,\u001b[0m \u001b[0mcolumns\u001b[0m \u001b[0;34m=\u001b[0m \u001b[0mex_cluster\u001b[0m\u001b[0;34m.\u001b[0m\u001b[0mcolumns\u001b[0m\u001b[0;34m)\u001b[0m\u001b[0;34m\u001b[0m\u001b[0;34m\u001b[0m\u001b[0m\n\u001b[0m\u001b[1;32m      2\u001b[0m \u001b[0mex_kmeans\u001b[0m\u001b[0;34m.\u001b[0m\u001b[0mhead\u001b[0m\u001b[0;34m(\u001b[0m\u001b[0;34m)\u001b[0m\u001b[0;34m\u001b[0m\u001b[0;34m\u001b[0m\u001b[0m\n",
      "\u001b[0;31mNameError\u001b[0m: name 'pd' is not defined"
     ]
    }
   ],
   "source": [
    "ex_cluster_scaled = pd.DataFrame(ex_cluster_scaled, columns = ex_cluster.columns)\n",
    "print(ex_cluster_scaled.head())"
   ]
  },
  {
   "cell_type": "markdown",
   "metadata": {},
   "source": [
    "#### Question 5\n",
    "\n",
    "#####  Rename `ex_cluster_scaled` as `ex_kmeans`.\n",
    "##### We will be using `ex_cluster_scaled` in other clustering models as well.\n",
    "##### Plot the two variables from `ex_kmeans` to see their interactions. \n",
    "##### Plot `Sodium (mg)` as `y` and `Calories` as `x`."
   ]
  },
  {
   "cell_type": "markdown",
   "metadata": {},
   "source": [
    "#### Answer: "
   ]
  },
  {
   "cell_type": "code",
   "execution_count": null,
   "metadata": {},
   "outputs": [],
   "source": [
    "# Rename `ex_cluster_scaled` as `ex_kmeans`.\n",
    "ex_kmeans = ex_cluster_scaled"
   ]
  },
  {
   "cell_type": "code",
   "execution_count": null,
   "metadata": {},
   "outputs": [],
   "source": [
    "# Plot the data.\n",
    "plt.scatter(ex_kmeans['Calories'], ex_kmeans['Sodium (mg)'], label = 'True Position') \n",
    "plt.title('Calories vs Sodium')\n",
    "plt.ylabel('Sodium (mg)')\n",
    "plt.xlabel('Calories')"
   ]
  },
  {
   "cell_type": "markdown",
   "metadata": {},
   "source": [
    "#### Question 6\n",
    "\n",
    "##### Let's find an optimal K. \n",
    "##### Initialize the k-means with 2 clusters and name it `ex_kmeans_2`. \n",
    "##### Fit `ex_kmeans_2` with `ex_kmeans`. \n",
    "##### Predict the clusters with `ex_kmeans_2` and name the outputs as `labels`. \n",
    "##### Get the cluster centers and name it as `C_2`. \n",
    "##### Print `C_2` to see what it looks like. \n"
   ]
  },
  {
   "cell_type": "markdown",
   "metadata": {},
   "source": [
    "#### Answer: "
   ]
  },
  {
   "cell_type": "code",
   "execution_count": null,
   "metadata": {},
   "outputs": [],
   "source": [
    "ex_kmeans_2 = KMeans(n_clusters = 2)"
   ]
  },
  {
   "cell_type": "code",
   "execution_count": null,
   "metadata": {},
   "outputs": [],
   "source": [
    "ex_kmeans_2 = ex_kmeans_2.fit(ex_kmeans)"
   ]
  },
  {
   "cell_type": "code",
   "execution_count": null,
   "metadata": {},
   "outputs": [],
   "source": [
    "labels = ex_kmeans_2.predict(ex_kmeans)"
   ]
  },
  {
   "cell_type": "code",
   "execution_count": null,
   "metadata": {},
   "outputs": [],
   "source": [
    "C_2 = ex_kmeans_2.cluster_centers_\n",
    "print(C_2)"
   ]
  },
  {
   "cell_type": "markdown",
   "metadata": {},
   "source": [
    "#### Question 7\n",
    "\n",
    "##### Plot the data with clusters colored in and each centroid plotted."
   ]
  },
  {
   "cell_type": "markdown",
   "metadata": {},
   "source": [
    "#### Answer: "
   ]
  },
  {
   "cell_type": "code",
   "execution_count": null,
   "metadata": {},
   "outputs": [],
   "source": [
    "# First, we plot our clusters, colored in by the labels.\n",
    "plt.scatter(ex_kmeans.iloc[:,0],            \n",
    "            ex_kmeans.iloc[:,1], \n",
    "            c=ex_kmeans_2.labels_, \n",
    "            cmap='rainbow')\n",
    "\n",
    "# Second, we plot the optimized centroids over the clusters.\n",
    "plt.scatter(C_2[:, 0], \n",
    "            C_2[:, 1], \n",
    "            c='black', \n",
    "            s=200, \n",
    "            alpha=0.5)"
   ]
  },
  {
   "cell_type": "markdown",
   "metadata": {},
   "source": [
    "## Exercise 2"
   ]
  },
  {
   "cell_type": "markdown",
   "metadata": {},
   "source": [
    "#### Question 1\n",
    "\n",
    "#####  Get the metrics we need for building an elbow plot.\n",
    "##### The range for K should be from 1 to 20. "
   ]
  },
  {
   "cell_type": "markdown",
   "metadata": {},
   "source": [
    "#### Answer: "
   ]
  },
  {
   "cell_type": "code",
   "execution_count": null,
   "metadata": {},
   "outputs": [],
   "source": [
    "# Set the range of k.\n",
    "K_MAX = 20\n",
    "KK = range(1, K_MAX + 1)\n",
    "\n",
    "# Run `kmeans` for values in the range k = 1-20.\n",
    "KM = [kmeans(ex_kmeans, k) for k in KK]\n",
    "\n",
    "# Find the centroids for each KM output. \n",
    "centroids = [cent for (cent,var) in KM]\n",
    "\n",
    "# Calculate centroids for each iteration of k. \n",
    "D_k = [cdist(ex_kmeans, cent, 'euclidean') for cent in centroids]\n",
    "cIdx = [np.argmin(D, axis = 1) for D in D_k]\n",
    "dist = [np.min(D, axis = 1) for D in D_k]\n",
    "\n",
    "tot_withinss = [sum(d**2) for d in dist]                        # Total within-cluster sum of squares\n",
    "totss = sum(pdist(ex_kmeans)**2) / ex_kmeans.shape[0]           # The total sum of squares\n",
    "betweenss = totss - tot_withinss                                # The between-cluster sum of squares"
   ]
  },
  {
   "cell_type": "markdown",
   "metadata": {},
   "source": [
    "#### Question 2\n",
    "##### Build an elbow curve plot for KMeans clustering and find the optimal K. "
   ]
  },
  {
   "cell_type": "markdown",
   "metadata": {},
   "source": [
    "#### Answer: "
   ]
  },
  {
   "cell_type": "code",
   "execution_count": null,
   "metadata": {},
   "outputs": [],
   "source": [
    "# Set range for k.\n",
    "kIdx = 2        # K=3\n",
    "clr = cm.Spectral( np.linspace(0,1,10) ).tolist()\n",
    "mrk = 'os^p<dvh8>+x.'"
   ]
  },
  {
   "cell_type": "code",
   "execution_count": null,
   "metadata": {},
   "outputs": [],
   "source": [
    "# Elbow curve - explained variance.\n",
    "fig = plt.figure()\n",
    "ax = fig.add_subplot(111)\n",
    "ax.plot(KK, betweenss/totss*100, 'b*-')\n",
    "ax.plot(KK[kIdx], betweenss[kIdx]/totss*100, marker='o', markersize=12, \n",
    "        markeredgewidth=2, markeredgecolor='r', markerfacecolor='None')\n",
    "ax.set_ylim((0,100))\n",
    "plt.grid(True)\n",
    "plt.xlabel('Number of clusters')\n",
    "plt.ylabel('Percentage of variance explained (%)')\n",
    "plt.title('Elbow for KMeans clustering')"
   ]
  },
  {
   "cell_type": "markdown",
   "metadata": {},
   "source": [
    "#### Question 3\n",
    "##### Now try the silhouette method to find the optimal number of `k`."
   ]
  },
  {
   "cell_type": "markdown",
   "metadata": {},
   "source": [
    "#### Answer:"
   ]
  },
  {
   "cell_type": "code",
   "execution_count": null,
   "metadata": {},
   "outputs": [],
   "source": [
    "obs = ex_kmeans\n",
    "silhouette_score_values=list()\n",
    "\n",
    "NumberOfClusters = range(2,30)\n",
    "\n",
    "for i in NumberOfClusters:\n",
    "\n",
    "    classifier=cluster.KMeans(i,init='k-means++', n_init=10, \n",
    "                              max_iter=300, \n",
    "                              tol=0.0001, \n",
    "                              verbose=0, \n",
    "                              random_state=None, \n",
    "                              copy_x=True)\n",
    "    classifier.fit(obs)\n",
    "    labels= classifier.predict(obs)\n",
    "    sklearn.metrics.silhouette_score(obs,labels ,metric='euclidean', sample_size=None, random_state=None)\n",
    "    silhouette_score_values.append(sklearn.metrics.silhouette_score(obs,labels ,metric='euclidean', sample_size=None, random_state=None))\n",
    "\n",
    "plt.plot(NumberOfClusters, silhouette_score_values)\n",
    "plt.title(\"Silhouette score values vs Numbers of Clusters \")\n",
    "plt.show()     \n",
    "\n",
    "Optimal_NumberOf_Components=NumberOfClusters[silhouette_score_values.index(max(silhouette_score_values))]"
   ]
  },
  {
   "cell_type": "code",
   "execution_count": null,
   "metadata": {},
   "outputs": [],
   "source": [
    "print(\"Optimal number of components is:\", Optimal_NumberOf_Components)"
   ]
  },
  {
   "cell_type": "markdown",
   "metadata": {},
   "source": [
    "#### Question 4\n",
    "##### Print the explained variance for both k = 2 and the optimal k and compare."
   ]
  },
  {
   "cell_type": "markdown",
   "metadata": {},
   "source": [
    "#### Answer: "
   ]
  },
  {
   "cell_type": "code",
   "execution_count": null,
   "metadata": {},
   "outputs": [],
   "source": [
    "# Explained variance for optimal number of clusters at `k = 2`.\n",
    "print(betweenss[1]/totss*100)"
   ]
  },
  {
   "cell_type": "code",
   "execution_count": null,
   "metadata": {},
   "outputs": [],
   "source": [
    "# Explained variance for optimal number of clusters at `k = 3`.\n",
    "print(betweenss[2]/totss*100)"
   ]
  },
  {
   "cell_type": "markdown",
   "metadata": {},
   "source": [
    "#### Question 5\n",
    "##### Initiate a new k-means cluster classifier and name it `ex_kmeans_K`, with K being the optimal number of clusters as 3.\n",
    "##### Fit `ex_kmeans_K` and use the model to predict clusters and store them in a list called `labels`. \n",
    "\n",
    "##### Plot a scatterplot with the optimal number of clusters shown in different colors.\n",
    "##### Plot the optimized centroids over the clusters.\n"
   ]
  },
  {
   "cell_type": "markdown",
   "metadata": {},
   "source": [
    "#### Answer: "
   ]
  },
  {
   "cell_type": "code",
   "execution_count": null,
   "metadata": {},
   "outputs": [],
   "source": [
    "ex_kmeans_3 = KMeans(n_clusters = 3)\n",
    "ex_kmeans_3 = ex_kmeans_3.fit(ex_kmeans)\n",
    "labels = ex_kmeans_3.predict(ex_kmeans)\n",
    "C_3 = ex_kmeans_3.cluster_centers_"
   ]
  },
  {
   "cell_type": "code",
   "execution_count": null,
   "metadata": {},
   "outputs": [],
   "source": [
    "plt.scatter(ex_kmeans.iloc[:,0],            \n",
    "            ex_kmeans.iloc[:,1], \n",
    "            c = ex_kmeans_3.labels_, \n",
    "            cmap = 'rainbow')\n",
    "\n",
    "\n",
    "plt.scatter(C_3[:, 0], \n",
    "            C_3[:, 1], \n",
    "            c = 'black', \n",
    "            s = 200, \n",
    "            alpha = 0.5)"
   ]
  },
  {
   "cell_type": "markdown",
   "metadata": {},
   "source": [
    "#### Question 6\n",
    "##### Create a new dataframe named `clustered_ex` and populate with all the columns from `ex_cluster_scaled`. \n",
    "##### Append the list of predicted cluster, `labels`, to the `clustered_ex` dataframe. \n",
    "##### Print the `clustered_ex` dataframe to inspect the clusters."
   ]
  },
  {
   "cell_type": "markdown",
   "metadata": {},
   "source": [
    "#### Answer: "
   ]
  },
  {
   "cell_type": "code",
   "execution_count": null,
   "metadata": {},
   "outputs": [],
   "source": [
    "clustered_ex = ex_cluster_scaled.copy()\n",
    "clustered_ex['cluster'] = pd.Series(labels)"
   ]
  },
  {
   "cell_type": "code",
   "execution_count": null,
   "metadata": {},
   "outputs": [],
   "source": [
    "clustered_ex.head()"
   ]
  },
  {
   "cell_type": "markdown",
   "metadata": {},
   "source": [
    "#### Question 7\n",
    "##### Group the `clustered_ex` dataframe by `cluster` to see the group mean of each variable.\n",
    "##### Name the new dataframe as `ex_cluster_groups_means`. \n",
    "##### Print `ex_cluster_groups_means` to inspect each clusters.\n"
   ]
  },
  {
   "cell_type": "markdown",
   "metadata": {},
   "source": [
    "#### Answer: "
   ]
  },
  {
   "cell_type": "code",
   "execution_count": null,
   "metadata": {},
   "outputs": [],
   "source": [
    "ex_cluster_groups_means = clustered_ex.groupby('cluster').mean()\n",
    "ex_cluster_groups_means"
   ]
  },
  {
   "cell_type": "code",
   "execution_count": null,
   "metadata": {},
   "outputs": [],
   "source": []
  }
 ],
 "metadata": {
  "kernelspec": {
   "display_name": "Python 3",
   "language": "python",
   "name": "python3"
  },
  "language_info": {
   "codemirror_mode": {
    "name": "ipython",
    "version": 3
   },
   "file_extension": ".py",
   "mimetype": "text/x-python",
   "name": "python",
   "nbconvert_exporter": "python",
   "pygments_lexer": "ipython3",
   "version": "3.8.5"
  }
 },
 "nbformat": 4,
 "nbformat_minor": 4
}
