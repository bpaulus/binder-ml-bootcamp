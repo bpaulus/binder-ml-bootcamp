{
 "cells": [
  {
   "cell_type": "markdown",
   "metadata": {},
   "source": [
    "# Day 1 Machine learning in Python - Exercises"
   ]
  },
  {
   "cell_type": "markdown",
   "metadata": {},
   "source": [
    "## Exercise 1"
   ]
  },
  {
   "cell_type": "markdown",
   "metadata": {},
   "source": [
    "#### Question 1\n",
    "##### Import the required packages.\n",
    "##### Set the working directory to data directory.\n",
    "##### Print the working directory and the plot directory."
   ]
  },
  {
   "cell_type": "markdown",
   "metadata": {},
   "source": [
    "#### Answer: "
   ]
  },
  {
   "cell_type": "markdown",
   "metadata": {},
   "source": [
    "#### Question 2\n",
    "\n",
    "##### Load the dataset `fast_food_data.csv` and save it as `ex_subset`.\n",
    "\n",
    "##### Print the first few rows of `ex_subset` and its summary using describe().\n",
    "\n",
    "##### Drop all the non-numerical columns from `ex_subset` and print the few rows again to see what the dataframe looks like."
   ]
  },
  {
   "cell_type": "markdown",
   "metadata": {},
   "source": [
    "#### Answer: "
   ]
  },
  {
   "cell_type": "markdown",
   "metadata": {},
   "source": [
    "#### Question 3\n",
    "\n",
    "##### Check how many NAs are in each column and impute them with mean. \n",
    "\n",
    "##### For clustering, we will be using just the `Calories` and `Sodium (mg)` columns. Drop all the other columns from `ex_subset` and name the new dataset as `ex_cluster`. \n",
    "\n",
    "##### Print the first few rows of `ex_cluster` to make sure we have the correct dataset."
   ]
  },
  {
   "cell_type": "markdown",
   "metadata": {},
   "source": [
    "#### Answer: "
   ]
  },
  {
   "cell_type": "markdown",
   "metadata": {},
   "source": [
    "#### Question 4\n",
    "\n",
    "##### In the dataset `ex_cluster`, check the data types for all of the columns. \n",
    "##### After making sure that all the data is numeric, scale the dataset and name it `ex_cluster_scaled`.\n",
    "##### When the dataset is scaled, convert `ex_cluster_scaled` back to a pandas dataframe and make sure to name the columns again. \n",
    "\n",
    "##### Print out the first few rows of `ex_cluster_scaled` to make sure the column names are correct and are ready for clustering."
   ]
  },
  {
   "cell_type": "markdown",
   "metadata": {},
   "source": [
    "#### Answer: "
   ]
  },
  {
   "cell_type": "markdown",
   "metadata": {},
   "source": [
    "#### Question 5\n",
    "\n",
    "#####  Rename `ex_cluster_scaled` as `ex_kmeans`.\n",
    "##### We will be using `ex_cluster_scaled` in other clustering models as well.\n",
    "##### Plot the two variables from `ex_kmeans` to see their interactions. \n",
    "##### Plot `Sodium (mg)` as `y` and `Calories` as `x`."
   ]
  },
  {
   "cell_type": "markdown",
   "metadata": {},
   "source": [
    "#### Answer: "
   ]
  },
  {
   "cell_type": "markdown",
   "metadata": {},
   "source": [
    "#### Question 6\n",
    "\n",
    "##### Let's find an optimal K. \n",
    "##### Initialize the k-means with 2 clusters and name it `ex_kmeans_2`. \n",
    "##### Fit `ex_kmeans_2` with `ex_kmeans`. \n",
    "##### Predict the clusters with `ex_kmeans_2` and name the outputs as `labels`. \n",
    "##### Get the cluster centers and name it as `C_2`. \n",
    "##### Print `C_2` to see what it looks like. \n"
   ]
  },
  {
   "cell_type": "markdown",
   "metadata": {},
   "source": [
    "#### Answer: "
   ]
  },
  {
   "cell_type": "markdown",
   "metadata": {},
   "source": [
    "#### Question 7\n",
    "\n",
    "##### Plot the data with clusters colored in and each centroid plotted."
   ]
  },
  {
   "cell_type": "markdown",
   "metadata": {},
   "source": [
    "#### Answer: "
   ]
  },
  {
   "cell_type": "markdown",
   "metadata": {},
   "source": [
    "## Exercise 2"
   ]
  },
  {
   "cell_type": "markdown",
   "metadata": {},
   "source": [
    "#### Question 1\n",
    "\n",
    "#####  Get the metrics we need for building an elbow plot.\n",
    "##### The range for K should be from 1 to 20. "
   ]
  },
  {
   "cell_type": "markdown",
   "metadata": {},
   "source": [
    "#### Answer: "
   ]
  },
  {
   "cell_type": "markdown",
   "metadata": {},
   "source": [
    "#### Question 2\n",
    "##### Build an elbow curve plot for KMeans clustering and find the optimal K. "
   ]
  },
  {
   "cell_type": "markdown",
   "metadata": {},
   "source": [
    "#### Answer: "
   ]
  },
  {
   "cell_type": "markdown",
   "metadata": {},
   "source": [
    "#### Question 3\n",
    "##### Now try the silhouette method to find the optimal number of `k`."
   ]
  },
  {
   "cell_type": "markdown",
   "metadata": {},
   "source": [
    "#### Answer:"
   ]
  },
  {
   "cell_type": "markdown",
   "metadata": {},
   "source": [
    "#### Question 4\n",
    "##### Print the explained variance for both k = 2 and the optimal k and compare."
   ]
  },
  {
   "cell_type": "markdown",
   "metadata": {},
   "source": [
    "#### Answer: "
   ]
  },
  {
   "cell_type": "markdown",
   "metadata": {},
   "source": [
    "#### Question 5\n",
    "##### Initiate a new k-means cluster classifier and name it `ex_kmeans_K`, with K being the optimal number of clusters as 3.\n",
    "##### Fit `ex_kmeans_K` and use the model to predict clusters and store them in a list called `labels`. \n",
    "\n",
    "##### Plot a scatterplot with the optimal number of clusters shown in different colors.\n",
    "##### Plot the optimized centroids over the clusters.\n"
   ]
  },
  {
   "cell_type": "markdown",
   "metadata": {},
   "source": [
    "#### Answer: "
   ]
  },
  {
   "cell_type": "markdown",
   "metadata": {},
   "source": [
    "#### Question 6\n",
    "##### Create a new dataframe named `clustered_ex` and populate with all the columns from `ex_cluster_scaled`. \n",
    "##### Append the list of predicted cluster, `labels`, to the `clustered_ex` dataframe. \n",
    "##### Print the `clustered_ex` dataframe to inspect the clusters."
   ]
  },
  {
   "cell_type": "markdown",
   "metadata": {},
   "source": [
    "#### Answer: "
   ]
  },
  {
   "cell_type": "markdown",
   "metadata": {},
   "source": [
    "#### Question 7\n",
    "##### Group the `clustered_ex` dataframe by `cluster` to see the group mean of each variable.\n",
    "##### Name the new dataframe as `ex_cluster_groups_means`. \n",
    "##### Print `ex_cluster_groups_means` to inspect each clusters.\n"
   ]
  },
  {
   "cell_type": "markdown",
   "metadata": {},
   "source": [
    "#### Answer: "
   ]
  }
 ],
 "metadata": {
  "kernelspec": {
   "display_name": "Python 3",
   "language": "python",
   "name": "python3"
  },
  "language_info": {
   "codemirror_mode": {
    "name": "ipython",
    "version": 3
   },
   "file_extension": ".py",
   "mimetype": "text/x-python",
   "name": "python",
   "nbconvert_exporter": "python",
   "pygments_lexer": "ipython3",
   "version": "3.7.7-final"
  }
 },
 "nbformat": 4,
 "nbformat_minor": 2
}