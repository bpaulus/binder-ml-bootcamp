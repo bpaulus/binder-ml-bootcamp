{
 "cells": [
  {
   "cell_type": "markdown",
   "metadata": {},
   "source": [
    "# Day 3 Machine Learning in Python - exercises with answers"
   ]
  },
  {
   "cell_type": "markdown",
   "metadata": {},
   "source": [
    "## Exercise 1"
   ]
  },
  {
   "cell_type": "markdown",
   "metadata": {},
   "source": [
    "#### Question 1 \n",
    "##### Import the required packages to perform K-nearest neighbours."
   ]
  },
  {
   "cell_type": "markdown",
   "metadata": {},
   "source": [
    "#### Answer:\n"
   ]
  },
  {
   "cell_type": "markdown",
   "metadata": {},
   "source": [
    "#### Question 2 \n",
    "##### Set `main_dir` to the location of your `skillsoft-intro-to-machine-learning-in-python` folder.\n",
    "##### Make `data_dir` from the `main_dir` and concatenate remainder of the path to data directory."
   ]
  },
  {
   "cell_type": "markdown",
   "metadata": {},
   "source": [
    "#### Answer:"
   ]
  },
  {
   "cell_type": "markdown",
   "metadata": {},
   "source": [
    "#### Question 3 \n",
    "##### Set the working directory to `data_dir`.\n",
    "##### Check if the working directory is updated to `data_dir'."
   ]
  },
  {
   "cell_type": "markdown",
   "metadata": {},
   "source": [
    "#### Answer:"
   ]
  },
  {
   "cell_type": "markdown",
   "metadata": {},
   "source": [
    "#### Question 4 \n",
    "##### Load the cleaned dataset  `ex_cleaned_knn.csv` dataset that we saved in our previous module \n",
    "##### Save it as `chicago_cleaned`."
   ]
  },
  {
   "cell_type": "markdown",
   "metadata": {},
   "source": [
    "#### Answer:"
   ]
  },
  {
   "cell_type": "markdown",
   "metadata": {},
   "source": [
    "#### Question 5\n",
    "###### Once you ensure that all variables are numeric and that the target variable is Boolean, scale the variables using `scale()`.\n",
    "###### When using `scale()`, remember that you first have to split your predictors from your target.\n",
    "###### Label your scaled data `ex_X_scaled` (predictors) and `ex_y` (target).\n",
    "###### Display the first five records in `ex_X_scaled.`"
   ]
  },
  {
   "cell_type": "markdown",
   "metadata": {},
   "source": [
    "#### Question 6\n",
    "###### Split the scaled data into train and test, use a 70 train - 30 test split. \n",
    "###### Name your train `ex_X_train` and `ex_y_train` and your test as `ex_X_test` and `ex_y_test`.\n",
    "###### Don't forget to set the seed as `np.random.seed(2)`.\n",
    "\n"
   ]
  },
  {
   "cell_type": "markdown",
   "metadata": {},
   "source": [
    "#### Answer:"
   ]
  },
  {
   "cell_type": "markdown",
   "metadata": {},
   "source": [
    "#### Question 7\n",
    "###### Now, for cross-validation, use a CV of 5 on the `ex_knn` model.\n",
    "###### Save the scores as `ex_cv_scores` and print.\n",
    "###### Find the mean of the 5 cv scores, store this as `ex_mean_cv`."
   ]
  },
  {
   "cell_type": "markdown",
   "metadata": {},
   "source": [
    "#### Answer:"
   ]
  },
  {
   "cell_type": "markdown",
   "metadata": {},
   "source": [
    "## Exercise 2"
   ]
  },
  {
   "cell_type": "markdown",
   "metadata": {},
   "source": [
    "#### Question 1\n",
    "###### Create a parameter grid so that we can optimize our parameters for the model.\n",
    "###### `ex_k_range` should be a list with k values ranging from 1-31.\n",
    "###### `ex_param_grid` should be a dictionary that consists of key = parameter name i.e `n_neighbors` and values = list of k values that should be searched, for that parameter i.e `ex_k_range`.\n",
    "###### Instantiate the grid using the original model `ex_knn`. Use `GridSearchCV` with a 10 fold cv and scoring = accuracy."
   ]
  },
  {
   "cell_type": "markdown",
   "metadata": {},
   "source": [
    "#### Answer:"
   ]
  },
  {
   "cell_type": "markdown",
   "metadata": {},
   "source": [
    "#### Question 2\n",
    "###### Fit the grid with data. View the complete results.\n",
    "###### Create a list of the mean scores, using `ex_grid.cv_results_`. Name the list `ex_grid_mean_scores`.\n"
   ]
  },
  {
   "cell_type": "markdown",
   "metadata": {},
   "source": [
    "#### Answer:"
   ]
  },
  {
   "cell_type": "markdown",
   "metadata": {},
   "source": [
    "#### Question 3\n",
    "###### Plot your grid search results (grid_mean_scores) so that you can discover optimal `k` visually.\n",
    "###### What would optimal k be from just looking at this graph?\n"
   ]
  },
  {
   "cell_type": "markdown",
   "metadata": {},
   "source": [
    "#### Answer:"
   ]
  },
  {
   "cell_type": "markdown",
   "metadata": {},
   "source": [
    "#### Question 4\n",
    "###### Define the best parameters as found through grid search.\n",
    "###### Define the best score and the dictionary containing the best parameters.\n",
    "###### Then, print out the best model from the best parameters (`best_estimator_`)"
   ]
  },
  {
   "cell_type": "markdown",
   "metadata": {},
   "source": [
    "#### Answer:"
   ]
  },
  {
   "cell_type": "markdown",
   "metadata": {},
   "source": [
    "#### Question 5\n",
    "###### Add the final, optimized model to the saved pickle file `ex_model_final.sav` that we created in our previous module\n",
    "###### Pickle the dataframe so that you can add new classification methods to it in the next classes."
   ]
  },
  {
   "cell_type": "markdown",
   "metadata": {},
   "source": [
    "#### Answer:"
   ]
  }
 ],
 "metadata": {
  "kernelspec": {
   "display_name": "Python 3",
   "language": "python",
   "name": "python3"
  },
  "language_info": {
   "codemirror_mode": {
    "name": "ipython",
    "version": 3
   },
   "file_extension": ".py",
   "mimetype": "text/x-python",
   "name": "python",
   "nbconvert_exporter": "python",
   "pygments_lexer": "ipython3",
   "version": "3.6.9"
  }
 },
 "nbformat": 4,
 "nbformat_minor": 2
}
