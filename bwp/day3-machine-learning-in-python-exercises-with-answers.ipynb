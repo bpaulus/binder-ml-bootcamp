{
 "cells": [
  {
   "cell_type": "markdown",
   "metadata": {},
   "source": [
    "# Day 3 Machine Learning in Python - exercises with answers"
   ]
  },
  {
   "cell_type": "markdown",
   "metadata": {},
   "source": [
    "## Exercise 1"
   ]
  },
  {
   "cell_type": "markdown",
   "metadata": {},
   "source": [
    "#### Question 1 \n",
    "##### Import the required packages to perform K-nearest neighbours."
   ]
  },
  {
   "cell_type": "markdown",
   "metadata": {},
   "source": [
    "#### Answer:\n"
   ]
  },
  {
   "cell_type": "code",
   "execution_count": 1,
   "metadata": {},
   "outputs": [],
   "source": [
    "import os\n",
    "import pandas as pd\n",
    "import numpy as np\n",
    "import matplotlib.pyplot as plt\n",
    "import warnings\n",
    "warnings.filterwarnings(\"ignore\", category=FutureWarning)\n",
    "\n",
    "# New today - we will introduce it when we use it.\n",
    "import pickle\n",
    "from sklearn.model_selection import train_test_split\n",
    "from sklearn.neighbors import KNeighborsClassifier\n",
    "from sklearn.preprocessing import scale\n",
    "from sklearn.model_selection import cross_val_score\n",
    "from sklearn.model_selection import GridSearchCV\n",
    "from sklearn.metrics import accuracy_score, classification_report, confusion_matrix\n",
    "from sklearn import metrics\n"
   ]
  },
  {
   "cell_type": "markdown",
   "metadata": {},
   "source": [
    "#### Question 2 \n",
    "##### Set `main_dir` to the location of your `skillsoft-intro-to-machine-learning-in-python` folder.\n",
    "##### Make `data_dir` from the `main_dir` and concatenate remainder of the path to data directory."
   ]
  },
  {
   "cell_type": "markdown",
   "metadata": {},
   "source": [
    "#### Answer:"
   ]
  },
  {
   "cell_type": "code",
   "execution_count": 2,
   "metadata": {},
   "outputs": [],
   "source": [
    "from pathlib import Path\n",
    "# Set `home_dir` to the root directory of your computer.\n",
    "home_dir = Path.home()\n",
    "# Set `main_dir` to the location of your `skillsoft-intro-to-machine-learning-in-python` folder.\n",
    "main_dir = home_dir / \"Desktop\" / \"skillsoft-intro-to-machine-learning-in-python\"\n",
    "# Make `data_dir` from the `main_dir` and remainder of the path to data directory.\n",
    "data_dir = main_dir / \"data\"\n",
    "# Create a plot directory to save our plots\n",
    "plot_dir = main_dir / \"plots\""
   ]
  },
  {
   "cell_type": "markdown",
   "metadata": {},
   "source": [
    "#### Question 3 \n",
    "##### Set the working directory to `data_dir`.\n",
    "##### Check if the working directory is updated to `data_dir'."
   ]
  },
  {
   "cell_type": "markdown",
   "metadata": {},
   "source": [
    "#### Answer:"
   ]
  },
  {
   "cell_type": "code",
   "execution_count": 3,
   "metadata": {},
   "outputs": [
    {
     "name": "stdout",
     "output_type": "stream",
     "text": [
      "C:\\Users\\aashe\\Desktop\\skillsoft-intro-to-machine-learning-in-python\\data\n"
     ]
    }
   ],
   "source": [
    "# Change the working directory.\n",
    "os.chdir(data_dir)\n",
    "\n",
    "# Check the working directory.\n",
    "print(os.getcwd())"
   ]
  },
  {
   "cell_type": "markdown",
   "metadata": {},
   "source": [
    "#### Question 4 \n",
    "##### Load the cleaned dataset  `ex_cleaned_knn.csv` dataset that we saved in our previous module \n",
    "##### Save it as `chicago_cleaned`."
   ]
  },
  {
   "cell_type": "markdown",
   "metadata": {},
   "source": [
    "#### Answer:"
   ]
  },
  {
   "cell_type": "code",
   "execution_count": 4,
   "metadata": {},
   "outputs": [
    {
     "data": {
      "text/html": [
       "<div>\n",
       "<style scoped>\n",
       "    .dataframe tbody tr th:only-of-type {\n",
       "        vertical-align: middle;\n",
       "    }\n",
       "\n",
       "    .dataframe tbody tr th {\n",
       "        vertical-align: top;\n",
       "    }\n",
       "\n",
       "    .dataframe thead th {\n",
       "        text-align: right;\n",
       "    }\n",
       "</style>\n",
       "<table border=\"1\" class=\"dataframe\">\n",
       "  <thead>\n",
       "    <tr style=\"text-align: right;\">\n",
       "      <th></th>\n",
       "      <th>percent_house_crowded</th>\n",
       "      <th>percent_house_below_poverty</th>\n",
       "      <th>percent_16_unemployed</th>\n",
       "      <th>percent_25_without_diploma</th>\n",
       "      <th>percent_dependent</th>\n",
       "      <th>per_capita_income</th>\n",
       "      <th>hardship_index</th>\n",
       "      <th>income</th>\n",
       "    </tr>\n",
       "  </thead>\n",
       "  <tbody>\n",
       "    <tr>\n",
       "      <th>0</th>\n",
       "      <td>7.7</td>\n",
       "      <td>23.6</td>\n",
       "      <td>8.7</td>\n",
       "      <td>18.2</td>\n",
       "      <td>27.5</td>\n",
       "      <td>23939</td>\n",
       "      <td>39.0</td>\n",
       "      <td>False</td>\n",
       "    </tr>\n",
       "    <tr>\n",
       "      <th>1</th>\n",
       "      <td>7.8</td>\n",
       "      <td>17.2</td>\n",
       "      <td>8.8</td>\n",
       "      <td>20.8</td>\n",
       "      <td>38.5</td>\n",
       "      <td>23040</td>\n",
       "      <td>46.0</td>\n",
       "      <td>False</td>\n",
       "    </tr>\n",
       "    <tr>\n",
       "      <th>2</th>\n",
       "      <td>3.8</td>\n",
       "      <td>24.0</td>\n",
       "      <td>8.9</td>\n",
       "      <td>11.8</td>\n",
       "      <td>22.2</td>\n",
       "      <td>35787</td>\n",
       "      <td>20.0</td>\n",
       "      <td>True</td>\n",
       "    </tr>\n",
       "    <tr>\n",
       "      <th>3</th>\n",
       "      <td>3.4</td>\n",
       "      <td>10.9</td>\n",
       "      <td>8.2</td>\n",
       "      <td>13.4</td>\n",
       "      <td>25.5</td>\n",
       "      <td>37524</td>\n",
       "      <td>17.0</td>\n",
       "      <td>True</td>\n",
       "    </tr>\n",
       "    <tr>\n",
       "      <th>4</th>\n",
       "      <td>0.3</td>\n",
       "      <td>7.5</td>\n",
       "      <td>5.2</td>\n",
       "      <td>4.5</td>\n",
       "      <td>26.2</td>\n",
       "      <td>57123</td>\n",
       "      <td>6.0</td>\n",
       "      <td>True</td>\n",
       "    </tr>\n",
       "  </tbody>\n",
       "</table>\n",
       "</div>"
      ],
      "text/plain": [
       "   percent_house_crowded  percent_house_below_poverty  percent_16_unemployed  \\\n",
       "0                    7.7                         23.6                    8.7   \n",
       "1                    7.8                         17.2                    8.8   \n",
       "2                    3.8                         24.0                    8.9   \n",
       "3                    3.4                         10.9                    8.2   \n",
       "4                    0.3                          7.5                    5.2   \n",
       "\n",
       "   percent_25_without_diploma  percent_dependent  per_capita_income  \\\n",
       "0                        18.2               27.5              23939   \n",
       "1                        20.8               38.5              23040   \n",
       "2                        11.8               22.2              35787   \n",
       "3                        13.4               25.5              37524   \n",
       "4                         4.5               26.2              57123   \n",
       "\n",
       "   hardship_index  income  \n",
       "0            39.0   False  \n",
       "1            46.0   False  \n",
       "2            20.0    True  \n",
       "3            17.0    True  \n",
       "4             6.0    True  "
      ]
     },
     "execution_count": 4,
     "metadata": {},
     "output_type": "execute_result"
    }
   ],
   "source": [
    "chicago_cleaned = pd.read_csv(\"ex_cleaned_knn.csv\")\n",
    "\n",
    "# Look at the first five rows using .head().\n",
    "chicago_cleaned.head()"
   ]
  },
  {
   "cell_type": "markdown",
   "metadata": {},
   "source": [
    "#### Question 5\n",
    "###### Once you ensure that all variables are numeric and that the target variable is Boolean, scale the variables using `scale()`.\n",
    "###### When using `scale()`, remember that you first have to split your predictors from your target.\n",
    "###### Label your scaled data `ex_X_scaled` (predictors) and `ex_y` (target).\n",
    "###### Display the first five records in `ex_X_scaled.`"
   ]
  },
  {
   "cell_type": "code",
   "execution_count": 5,
   "metadata": {},
   "outputs": [
    {
     "name": "stdout",
     "output_type": "stream",
     "text": [
      "[[ 0.76455091  0.16341619 -0.89126115 -0.18256997 -1.13545603 -0.10981094\n",
      "  -0.37098756]\n",
      " [ 0.79205781 -0.39879857 -0.87784062  0.04020494  0.38438995 -0.16935257\n",
      "  -0.12381538]\n",
      " [-0.3082184   0.19855461 -0.86442008 -0.73093897 -1.86774546  0.6748935\n",
      "  -1.04188347]\n",
      " [-0.41824602 -0.95222873 -0.95836383 -0.59384672 -1.41179167  0.78993668\n",
      "  -1.1478144 ]\n",
      " [-1.27096009 -1.25090533 -1.36097987 -1.35642237 -1.3150742   2.08799731\n",
      "  -1.53622783]]\n"
     ]
    }
   ],
   "source": [
    "# Split the data into X and y - y is categorical, so it can't scale.\n",
    "ex_X = chicago_cleaned.drop('income', axis = 1)\n",
    "ex_y = np.array(chicago_cleaned['income'])\n",
    "\n",
    "# Scale X.\n",
    "ex_X_scaled = scale(ex_X)\n",
    "print(ex_X_scaled[0:5])"
   ]
  },
  {
   "cell_type": "markdown",
   "metadata": {},
   "source": [
    "#### Question 6\n",
    "###### Split the scaled data into train and test, use a 70 train - 30 test split. \n",
    "###### Name your train `ex_X_train` and `ex_y_train` and your test as `ex_X_test` and `ex_y_test`.\n",
    "###### Don't forget to set the seed as `np.random.seed(2)`.\n",
    "\n"
   ]
  },
  {
   "cell_type": "markdown",
   "metadata": {},
   "source": [
    "#### Answer:"
   ]
  },
  {
   "cell_type": "code",
   "execution_count": 6,
   "metadata": {},
   "outputs": [],
   "source": [
    "# Set the seed.\n",
    "np.random.seed(2)\n",
    "\n",
    "# Split into train and test data.\n",
    "ex_X_train, ex_X_test, ex_y_train, ex_y_test = train_test_split(ex_X_scaled, \n",
    "                                                                ex_y, \n",
    "                                                                test_size = 0.3) "
   ]
  },
  {
   "cell_type": "markdown",
   "metadata": {},
   "source": [
    "#### Question 7\n",
    "###### Now, for cross-validation, use a CV of 5 on the `ex_knn` model.\n",
    "###### Save the scores as `ex_cv_scores` and print.\n",
    "###### Find the mean of the 5 cv scores, store this as `ex_mean_cv`."
   ]
  },
  {
   "cell_type": "markdown",
   "metadata": {},
   "source": [
    "#### Answer:"
   ]
  },
  {
   "cell_type": "code",
   "execution_count": 7,
   "metadata": {},
   "outputs": [],
   "source": [
    "# Train model with CV of 5.\n",
    "ex_knn = KNeighborsClassifier(n_neighbors = 5)\n",
    "ex_cv_scores = cross_val_score(ex_knn, ex_X_scaled, ex_y, cv = 5)"
   ]
  },
  {
   "cell_type": "code",
   "execution_count": 8,
   "metadata": {},
   "outputs": [
    {
     "data": {
      "text/plain": [
       "0.8333333333333334"
      ]
     },
     "execution_count": 8,
     "metadata": {},
     "output_type": "execute_result"
    }
   ],
   "source": [
    "# Average the accuracy scores of all 5 iterations.\n",
    "ex_mean = np.mean(ex_cv_scores)\n",
    "ex_mean"
   ]
  },
  {
   "cell_type": "markdown",
   "metadata": {},
   "source": [
    "## Exercise 2"
   ]
  },
  {
   "cell_type": "markdown",
   "metadata": {},
   "source": [
    "#### Question 1\n",
    "###### Create a parameter grid so that we can optimize our parameters for the model.\n",
    "###### `ex_k_range` should be a list with k values ranging from 1-31.\n",
    "###### `ex_param_grid` should be a dictionary that consists of key = parameter name i.e `n_neighbors` and values = list of k values that should be searched, for that parameter i.e `ex_k_range`.\n",
    "###### Instantiate the grid using the original model `ex_knn`. Use `GridSearchCV` with a 10 fold cv and scoring = accuracy."
   ]
  },
  {
   "cell_type": "markdown",
   "metadata": {},
   "source": [
    "#### Answer:"
   ]
  },
  {
   "cell_type": "code",
   "execution_count": 9,
   "metadata": {},
   "outputs": [
    {
     "name": "stdout",
     "output_type": "stream",
     "text": [
      "{'n_neighbors': [1, 2, 3, 4, 5, 6, 7, 8, 9, 10, 11, 12, 13, 14, 15, 16, 17, 18, 19, 20, 21, 22, 23, 24, 25, 26, 27, 28, 29, 30]}\n"
     ]
    }
   ],
   "source": [
    "# Define the parameter values that should be searched.\n",
    "ex_k_range = list(range(1, 31))\n",
    "\n",
    "# Create a parameter grid.\n",
    "ex_param_grid = dict(n_neighbors = ex_k_range)\n",
    "print(ex_param_grid)\n",
    "\n",
    "# Instantiate the grid using our original model - knn with k = 3.\n",
    "ex_grid = GridSearchCV(ex_knn, ex_param_grid, cv = 10, scoring = 'accuracy')"
   ]
  },
  {
   "cell_type": "markdown",
   "metadata": {},
   "source": [
    "#### Question 2\n",
    "###### Fit the grid with data. View the complete results.\n",
    "###### Create a list of the mean scores, using `ex_grid.cv_results_`. Name the list `ex_grid_mean_scores`.\n"
   ]
  },
  {
   "cell_type": "markdown",
   "metadata": {},
   "source": [
    "#### Answer:"
   ]
  },
  {
   "cell_type": "code",
   "execution_count": 10,
   "metadata": {},
   "outputs": [
    {
     "name": "stdout",
     "output_type": "stream",
     "text": [
      "[0.85897436 0.8974359  0.85897436 0.8974359  0.85897436 0.85897436\n",
      " 0.88461538 0.88461538 0.91025641 0.92307692 0.91025641 0.88461538\n",
      " 0.91025641 0.88461538 0.91025641 0.88461538 0.8974359  0.88461538\n",
      " 0.8974359  0.88461538 0.91025641 0.8974359  0.91025641 0.91025641\n",
      " 0.91025641 0.92307692 0.93589744 0.91025641 0.92307692 0.91025641]\n"
     ]
    },
    {
     "name": "stderr",
     "output_type": "stream",
     "text": [
      "C:\\Users\\aashe\\Anaconda3\\lib\\site-packages\\sklearn\\model_selection\\_search.py:814: DeprecationWarning: The default of the `iid` parameter will change from True to False in version 0.22 and will be removed in 0.24. This will change numeric results when test-set sizes are unequal.\n",
      "  DeprecationWarning)\n"
     ]
    }
   ],
   "source": [
    "# Fit the grid with data.\n",
    "ex_grid.fit(ex_X_scaled, ex_y)\n",
    "\n",
    "# View complete results.\n",
    "print(ex_grid.cv_results_['mean_test_score'])"
   ]
  },
  {
   "cell_type": "code",
   "execution_count": 11,
   "metadata": {},
   "outputs": [],
   "source": [
    "# List of the mean scores.\n",
    "ex_grid_mean_scores = [result for result in ex_grid.cv_results_['mean_test_score']]"
   ]
  },
  {
   "cell_type": "markdown",
   "metadata": {},
   "source": [
    "#### Question 3\n",
    "###### Plot your grid search results (grid_mean_scores) so that you can discover optimal `k` visually.\n",
    "###### What would optimal k be from just looking at this graph?\n"
   ]
  },
  {
   "cell_type": "markdown",
   "metadata": {},
   "source": [
    "#### Answer:"
   ]
  },
  {
   "cell_type": "code",
   "execution_count": 12,
   "metadata": {},
   "outputs": [
    {
     "data": {
      "image/png": "[encoded data removed]",
      "text/plain": [
       "<Figure size 432x288 with 1 Axes>"
      ]
     },
     "metadata": {
      "needs_background": "light"
     },
     "output_type": "display_data"
    }
   ],
   "source": [
    "plt.plot(ex_k_range, ex_grid_mean_scores)\n",
    "plt.xlabel('Value of K for KNN')\n",
    "plt.ylabel('Cross-Validated Accuracy')\n",
    "plt.show()"
   ]
  },
  {
   "cell_type": "markdown",
   "metadata": {},
   "source": [
    "- Optimal k is hard to define from this graph because of the ups and down. It could be at 3, 10, 27."
   ]
  },
  {
   "cell_type": "markdown",
   "metadata": {},
   "source": [
    "#### Question 4\n",
    "###### Define the best parameters as found through grid search.\n",
    "###### Define the best score and the dictionary containing the best parameters.\n",
    "###### Then, print out the best model from the best parameters (`best_estimator_`)"
   ]
  },
  {
   "cell_type": "markdown",
   "metadata": {},
   "source": [
    "#### Answer:"
   ]
  },
  {
   "cell_type": "code",
   "execution_count": 13,
   "metadata": {},
   "outputs": [
    {
     "name": "stdout",
     "output_type": "stream",
     "text": [
      "0.9358974358974359\n",
      "{'n_neighbors': 27}\n",
      "KNeighborsClassifier(algorithm='auto', leaf_size=30, metric='minkowski',\n",
      "                     metric_params=None, n_jobs=None, n_neighbors=27, p=2,\n",
      "                     weights='uniform')\n"
     ]
    }
   ],
   "source": [
    "# Single best score achieved across all params (k).\n",
    "print(ex_grid.best_score_)\n",
    "ex_grid_score = ex_grid.best_score_\n",
    "\n",
    "# Dictionary containing the parameters (k) used to generate that score.\n",
    "print(ex_grid.best_params_)\n",
    "\n",
    "# Actual model object fit with those best parameters.\n",
    "# Show default parameters that we did not specify.\n",
    "print(ex_grid.best_estimator_)"
   ]
  },
  {
   "cell_type": "markdown",
   "metadata": {},
   "source": [
    "#### Question 5\n",
    "###### Add the final, optimized model to the saved pickle file `ex_model_final.sav` that we created in our previous module\n",
    "###### Pickle the dataframe so that you can add new classification methods to it in the next classes."
   ]
  },
  {
   "cell_type": "markdown",
   "metadata": {},
   "source": [
    "#### Answer:"
   ]
  },
  {
   "cell_type": "code",
   "execution_count": 14,
   "metadata": {},
   "outputs": [],
   "source": [
    "ex_model_final = pickle.load(open(\"ex_model_final.sav\",\"rb\" ))"
   ]
  },
  {
   "cell_type": "code",
   "execution_count": 15,
   "metadata": {},
   "outputs": [
    {
     "name": "stdout",
     "output_type": "stream",
     "text": [
      "    metrics  values             model\n",
      "0  accuracy  0.8333             knn_5\n",
      "1  accuracy  0.9359  knn_GridSearchCV\n"
     ]
    }
   ],
   "source": [
    "# Save final grid search model.\n",
    "ex_model_final = ex_model_final.append({'metrics' : \"accuracy\" , \n",
    "                                        'values' : round(ex_grid_score, 4),\n",
    "                                        'model':'knn_GridSearchCV' } , \n",
    "                                         ignore_index=True)\n",
    "print(ex_model_final)"
   ]
  },
  {
   "cell_type": "code",
   "execution_count": 16,
   "metadata": {},
   "outputs": [],
   "source": [
    "# Pickle `ex_model_final` dataframe.\n",
    "pickle.dump(ex_model_final, open(\"ex_model_final.sav\",\"wb\" ))"
   ]
  },
  {
   "cell_type": "code",
   "execution_count": null,
   "metadata": {},
   "outputs": [],
   "source": []
  }
 ],
 "metadata": {
  "kernelspec": {
   "display_name": "Python 3",
   "language": "python",
   "name": "python3"
  },
  "language_info": {
   "codemirror_mode": {
    "name": "ipython",
    "version": 3
   },
   "file_extension": ".py",
   "mimetype": "text/x-python",
   "name": "python",
   "nbconvert_exporter": "python",
   "pygments_lexer": "ipython3",
   "version": "3.6.9"
  }
 },
 "nbformat": 4,
 "nbformat_minor": 2
}
