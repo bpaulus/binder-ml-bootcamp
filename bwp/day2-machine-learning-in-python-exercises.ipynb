{
 "cells": [
  {
   "cell_type": "markdown",
   "metadata": {},
   "source": [
    "# Day 2 Machine Learning in Python - exercises with answers"
   ]
  },
  {
   "cell_type": "markdown",
   "metadata": {},
   "source": [
    "## Exercise 1"
   ]
  },
  {
   "cell_type": "markdown",
   "metadata": {},
   "source": [
    "#### Question 1 \n",
    "##### Import the required packages to perform K-nearest neighbours."
   ]
  },
  {
   "cell_type": "markdown",
   "metadata": {},
   "source": [
    "#### Answer:\n"
   ]
  },
  {
   "cell_type": "markdown",
   "metadata": {},
   "source": [
    "#### Question 2 \n",
    "##### Set `main_dir` to the location of your `skillsoft-intro-to-machine-learning-in-python` folder.\n",
    "##### Make `data_dir` from the `main_dir` and concatenate remainder of the path to data directory."
   ]
  },
  {
   "cell_type": "markdown",
   "metadata": {},
   "source": [
    "#### Answer:"
   ]
  },
  {
   "cell_type": "markdown",
   "metadata": {},
   "source": [
    "#### Question 3 \n",
    "##### Set the working directory to `data_dir`.\n",
    "##### Check if the working directory is updated to `data_dir'."
   ]
  },
  {
   "cell_type": "markdown",
   "metadata": {},
   "source": [
    "#### Answer:"
   ]
  },
  {
   "cell_type": "markdown",
   "metadata": {},
   "source": [
    "#### Question 4 \n",
    "##### Load the `chicago_census.csv` dataset. \n",
    "##### Save it as `chicago_census` and print the few rows"
   ]
  },
  {
   "cell_type": "markdown",
   "metadata": {},
   "source": [
    "#### Answer:"
   ]
  },
  {
   "cell_type": "markdown",
   "metadata": {},
   "source": [
    "#### Question 5 \n",
    "###### Rename the column names as the following (and double check they are renamed by looking at `.columns`):\n",
    "###### c(\"community_number\", \"community_area\", \"percent_house_crowded\", \"percent_house_below_poverty\",\n",
    "###### \"percent_16_unemployed\", \"percent_25_without_diploma\", \"percent_dependent\", \"per_capita_income\",\n",
    "###### \"hardship_index\")\n",
    "\n",
    "###### Hint: Use the code below to rename the columns."
   ]
  },
  {
   "cell_type": "markdown",
   "metadata": {},
   "source": [
    "#### Answer:"
   ]
  },
  {
   "cell_type": "markdown",
   "metadata": {},
   "source": [
    "#### Question 6 \n",
    "###### Add a new variable to the dataframe called \"income\".\n",
    "###### Set `income` to 0 if per_capita_income of the row is less than the mean per_capita_income, otherwise set `income` to 1.\n",
    "###### Make a new duplicate dataframe called \"chicago_knn\"."
   ]
  },
  {
   "cell_type": "markdown",
   "metadata": {},
   "source": [
    "#### Answer:"
   ]
  },
  {
   "cell_type": "markdown",
   "metadata": {},
   "source": [
    "#### Question 7\n",
    "###### Look for NAs in `chicago_knn` and impute with either a 0 or the mean.\n",
    "###### Impute community_member with 0 and hardship_index with mean.\n",
    "###### Check for NAs after again to make sure the data looks good."
   ]
  },
  {
   "cell_type": "markdown",
   "metadata": {},
   "source": [
    "#### Answer:"
   ]
  },
  {
   "cell_type": "markdown",
   "metadata": {},
   "source": [
    "#### Question 8\n",
    "##### Check the data types of the columns. \n",
    "##### Make sure to only keep numeric columns for kNN. Also, drop `community_number` as it is an ID and we do not want to scale it.\n",
    "##### Once you ensure that all variables are numeric, transform the target variable `income` to boolean.\n",
    "##### After you are done, save `chicago_numeric` as `ex_cleaned_knn.csv` for later use."
   ]
  },
  {
   "cell_type": "markdown",
   "metadata": {},
   "source": [
    "#### Answer:"
   ]
  },
  {
   "cell_type": "markdown",
   "metadata": {},
   "source": [
    "#### Question 9\n",
    "###### Once you ensure that all variables are numeric and that the target variable is Boolean, scale the variables using `scale()`.\n",
    "###### When using `scale()`, remember that you first have to split your predictors from your target.\n",
    "###### Label your scaled data `ex_X_scaled` (predictors) and `ex_y` (target).\n",
    "###### Display the first five records in `ex_X_scaled.`"
   ]
  },
  {
   "cell_type": "markdown",
   "metadata": {},
   "source": [
    "## Exercise 2"
   ]
  },
  {
   "cell_type": "markdown",
   "metadata": {},
   "source": [
    "#### Question 1\n",
    "###### Split the scaled data into train and test, use a 70 train - 30 test split. \n",
    "###### Name your train `ex_X_train` and `ex_y_train` and your test as `ex_X_test` and `ex_y_test`.\n",
    "###### Don't forget to set the seed as `np.random.seed(2)`.\n",
    "\n"
   ]
  },
  {
   "cell_type": "markdown",
   "metadata": {},
   "source": [
    "#### Answer:"
   ]
  },
  {
   "cell_type": "markdown",
   "metadata": {},
   "source": [
    "#### Question 2\n",
    "###### Instantiate a kNN model that uses 5 nearest neighbors.\n",
    "###### Name it `ex_knn`.\n",
    "###### Fit the classifier to the data."
   ]
  },
  {
   "cell_type": "markdown",
   "metadata": {},
   "source": [
    "#### Answer:"
   ]
  },
  {
   "cell_type": "markdown",
   "metadata": {},
   "source": [
    "#### Question 3\n",
    "###### Predict on the test data. Save as `ex_predictions`.\n",
    "###### Print out your first 5 predictions, then look at the first 5 actual vs. predicted observations.\n",
    "###### Name actual vs predicted object as `ex_actual_v_predicted`."
   ]
  },
  {
   "cell_type": "markdown",
   "metadata": {},
   "source": [
    "#### Answer:"
   ]
  },
  {
   "cell_type": "markdown",
   "metadata": {},
   "source": [
    "#### Question 4\n",
    "###### Now, let's analyze our model.\n",
    "###### Build a confusion matrix. Name it ex_cm_knn5."
   ]
  },
  {
   "cell_type": "markdown",
   "metadata": {},
   "source": [
    "#### Answer:"
   ]
  },
  {
   "cell_type": "markdown",
   "metadata": {},
   "source": [
    "#### Question 5\n",
    "###### Now calculate accuracy of our model by comparing our predictions to our actual values. \n",
    "###### Round the accuracy to four decimal values."
   ]
  },
  {
   "cell_type": "markdown",
   "metadata": {},
   "source": [
    "#### Answer:"
   ]
  },
  {
   "cell_type": "markdown",
   "metadata": {},
   "source": [
    "#### Question 6\n",
    "###### Create a dictionary similar to what we created in class, where you will store final accuracy scores of all your classification models.\n",
    "###### Name it `ex_model_final_dict`.\n",
    "###### Convert the dictionary to a dataframe and name it as `ex_model_final`.\n",
    "###### Display the dataframe.\n",
    "###### Pickle the dataframe `ex_model_final` as `ex_model_final.sav`"
   ]
  }
 ],
 "metadata": {
  "kernelspec": {
   "display_name": "Python 3",
   "language": "python",
   "name": "python3"
  },
  "language_info": {
   "codemirror_mode": {
    "name": "ipython",
    "version": 3
   },
   "file_extension": ".py",
   "mimetype": "text/x-python",
   "name": "python",
   "nbconvert_exporter": "python",
   "pygments_lexer": "ipython3",
   "version": "3.6.9"
  }
 },
 "nbformat": 4,
 "nbformat_minor": 2
}
