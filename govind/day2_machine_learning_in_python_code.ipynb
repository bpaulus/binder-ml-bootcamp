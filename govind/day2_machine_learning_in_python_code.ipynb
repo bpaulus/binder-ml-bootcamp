{
 "cells": [
  {
   "cell_type": "code",
   "execution_count": null,
   "metadata": {},
   "outputs": [],
   "source": [
    "\n",
    "#######################################################\n",
    "#######################################################\n",
    "############    COPYRIGHT - DATA SOCIETY   ############\n",
    "#######################################################\n",
    "#######################################################\n",
    "\n",
    "## DAY2 MACHINE LEARNING IN PYTHON ##\n",
    "\n",
    "## NOTE: To run individual pieces of code, select the line of code and\n",
    "##       press ctrl + enter for PCs or command + enter for Macs\n",
    "\n"
   ]
  },
  {
   "cell_type": "code",
   "execution_count": null,
   "metadata": {},
   "outputs": [],
   "source": [
    "#=================================================-\n",
    "#### Slide 4: Directory settings  ####\n",
    "\n",
    "from pathlib import Path\n",
    "\n",
    "# Set `home_dir` to the root directory of your computer.\n",
    "home_dir = Path.home()\n",
    "# Set `main_dir` to the location of your `skillsoft-intro-to-machine-learning-in-python` folder.\n",
    "main_dir = home_dir / \"Desktop\" / \"skillsoft-intro-to-machine-learning-in-python\"\n",
    "# Make `data_dir` from the `main_dir` and remainder of the path to data directory.\n",
    "data_dir = main_dir / \"data\"\n",
    "# Create a plot directory to save our plots\n",
    "plot_dir = main_dir / \"plots\"\n",
    "\n"
   ]
  },
  {
   "cell_type": "code",
   "execution_count": null,
   "metadata": {},
   "outputs": [],
   "source": [
    "#=================================================-\n",
    "#### Slide 5: Working directory  ####\n",
    "\n",
    "# Set working directory.\n",
    "os.chdir(data_dir)\n",
    "# Check working directory.\n",
    "print(os.getcwd())\n",
    "\n"
   ]
  },
  {
   "cell_type": "code",
   "execution_count": null,
   "metadata": {},
   "outputs": [],
   "source": [
    "#=================================================-\n",
    "#### Slide 6: Loading packages  ####\n",
    "\n",
    "import os\n",
    "import pandas as pd\n",
    "import numpy as np\n",
    "import matplotlib.pyplot as plt\n",
    "\n",
    "\n",
    "# New today - we will introduce it when we use it\n",
    "import pickle\n",
    "from sklearn.model_selection import train_test_split\n",
    "from sklearn.neighbors import KNeighborsClassifier\n",
    "from sklearn.preprocessing import scale\n",
    "from sklearn.model_selection import cross_val_score\n",
    "from sklearn.model_selection import GridSearchCV\n",
    "from sklearn.metrics import accuracy_score, classification_report, confusion_matrix\n",
    "from sklearn import metrics\n",
    "\n"
   ]
  },
  {
   "cell_type": "code",
   "execution_count": null,
   "metadata": {},
   "outputs": [],
   "source": [
    "#=================================================-\n",
    "#### Slide 23: Loading data into Python  ####\n",
    "\n",
    "household_poverty = pd.read_csv(\"costa_rica_poverty.csv\")\n",
    "print(household_poverty.head())\n",
    "\n"
   ]
  },
  {
   "cell_type": "code",
   "execution_count": null,
   "metadata": {},
   "outputs": [],
   "source": [
    "#=================================================-\n",
    "#### Slide 25: Subsetting data  ####\n",
    "\n",
    "costa_knn = household_poverty[[\"household_id\",\"rooms\",\"num_adults\",\"Target\"]]\n",
    "print(costa_knn.head())\n",
    "\n"
   ]
  },
  {
   "cell_type": "code",
   "execution_count": null,
   "metadata": {},
   "outputs": [],
   "source": [
    "#=================================================-\n",
    "#### Slide 27: The data at first glance  ####\n",
    "\n",
    "# The first 5 rows.\n",
    "print(costa_knn.head())\n",
    "# The data types.\n",
    "print(costa_knn.dtypes)\n",
    "print(costa_knn['Target'].value_counts())\n",
    "\n"
   ]
  },
  {
   "cell_type": "code",
   "execution_count": null,
   "metadata": {},
   "outputs": [],
   "source": [
    "#=================================================-\n",
    "#### Slide 28: Converting the target variable  ####\n",
    "\n",
    "costa_knn['Target'] = np.where(costa_knn['Target'] <= 3, 'vulnerable','non_vulnerable')\n",
    "print(costa_knn['Target'].head())\n",
    "\n"
   ]
  },
  {
   "cell_type": "code",
   "execution_count": null,
   "metadata": {},
   "outputs": [],
   "source": [
    "#=================================================-\n",
    "#### Slide 29: Data prep: check for NAs  ####\n",
    "\n",
    "# Check for NAs.\n",
    "print(costa_knn.isnull().sum())\n",
    "\n"
   ]
  },
  {
   "cell_type": "code",
   "execution_count": null,
   "metadata": {},
   "outputs": [],
   "source": [
    "#=================================================-\n",
    "#### Slide 30: Data prep: numeric variables  ####\n",
    "\n",
    "print(costa_knn.dtypes)\n",
    "\n"
   ]
  },
  {
   "cell_type": "code",
   "execution_count": null,
   "metadata": {},
   "outputs": [],
   "source": [
    "#=================================================-\n",
    "#### Slide 31: Data prep: ready for kNN  ####\n",
    "\n",
    "print(costa_knn.Target.dtypes)\n",
    "costa_knn[\"Target\"] = np.where(costa_knn[\"Target\"] == \"non_vulnerable\", True, False)\n",
    "# Check class again.\n",
    "print(costa_knn.Target.dtypes)\n",
    "\n"
   ]
  },
  {
   "cell_type": "code",
   "execution_count": null,
   "metadata": {},
   "outputs": [],
   "source": [
    "#=================================================-\n",
    "#### Slide 33: Data prep: scaling variables  ####\n",
    "\n",
    "# Split the data into X and y - y is categorical, so can't scale.\n",
    "X = costa_knn[['rooms', 'num_adults']]\n",
    "y = np.array(costa_knn['Target'])\n",
    "\n",
    "# Scale X.\n",
    "X_scaled = scale(X)\n",
    "print(X_scaled[0:5])\n",
    "\n"
   ]
  },
  {
   "cell_type": "code",
   "execution_count": null,
   "metadata": {},
   "outputs": [],
   "source": [
    "#=================================================-\n",
    "#### Slide 35: Exercise 1  ####\n",
    "\n",
    "\n",
    "\n"
   ]
  },
  {
   "cell_type": "code",
   "execution_count": null,
   "metadata": {},
   "outputs": [],
   "source": [
    "#=================================================-\n",
    "#### Slide 41: Train & test: small scale before n-fold  ####\n",
    "\n",
    "# Set the seed.\n",
    "np.random.seed(1)\n",
    "\n",
    "# Split into train and test.\n",
    "X_train, X_test, y_train, y_test = train_test_split(X_scaled,\n",
    "y,\n",
    "test_size = 0.3)\n",
    "\n",
    "\n"
   ]
  },
  {
   "cell_type": "code",
   "execution_count": null,
   "metadata": {},
   "outputs": [],
   "source": [
    "#=================================================-\n",
    "#### Slide 44: kNN: build model  ####\n",
    "\n",
    "# Create KNN classifier.\n",
    "knn = KNeighborsClassifier(n_neighbors = 5)\n",
    "# Fit the classifier to the data.\n",
    "knn.fit(X_train, y_train)\n",
    "\n"
   ]
  },
  {
   "cell_type": "code",
   "execution_count": null,
   "metadata": {},
   "outputs": [],
   "source": [
    "#=================================================-\n",
    "#### Slide 45: kNN: predict on test  ####\n",
    "\n",
    "predictions = knn.predict(X_test)\n",
    "print(predictions[0:5])\n",
    "\n"
   ]
  },
  {
   "cell_type": "code",
   "execution_count": null,
   "metadata": {},
   "outputs": [],
   "source": [
    "#=================================================-\n",
    "#### Slide 46: kNN: predict on test  ####\n",
    "\n",
    "actual_v_predicted = np.column_stack((y_test, predictions))\n",
    "print(actual_v_predicted[0:5])\n",
    "\n"
   ]
  },
  {
   "cell_type": "code",
   "execution_count": null,
   "metadata": {},
   "outputs": [],
   "source": [
    "#=================================================-\n",
    "#### Slide 58: Confusion matrix in Python  ####\n",
    "\n",
    "# Confusion matrix for knn.\n",
    "cm_knn5 = confusion_matrix(y_test, predictions)\n",
    "print(cm_knn5)\n",
    "print(round(accuracy_score(y_test, predictions),\n",
    "4))\n",
    "\n"
   ]
  },
  {
   "cell_type": "code",
   "execution_count": null,
   "metadata": {},
   "outputs": [],
   "source": [
    "#=================================================-\n",
    "#### Slide 59: Confusion matrix: visualize  ####\n",
    "\n",
    "plt.imshow(cm_knn5, interpolation = 'nearest', cmap = plt.cm.Wistia)\n",
    "classNames = ['Negative', 'Positive']\n",
    "plt.title('Confusion Matrix - Test Data')\n",
    "plt.ylabel('True label')\n",
    "plt.xlabel('Predicted label')\n",
    "tick_marks = np.arange(len(classNames))\n",
    "plt.xticks(tick_marks, classNames, rotation = 45)\n",
    "plt.yticks(tick_marks, classNames)\n",
    "s = [['TN', 'FP'], ['FN', 'TP']]\n",
    "for i in range(2):\n",
    "for j in range(2):\n",
    "plt.text(j,i, str(s[i][j]) + \" = \" + str(cm_knn5[i][j]))\n",
    "plt.show()\n",
    "\n"
   ]
  },
  {
   "cell_type": "code",
   "execution_count": null,
   "metadata": {},
   "outputs": [],
   "source": [
    "#=================================================-\n",
    "#### Slide 60: Evaluation of kNN with 5 neighbors  ####\n",
    "\n",
    "# Create a dictionary with accuracy values for our knn model with k = 5.\n",
    "model_final_dict = {'metrics': [\"accuracy\"],\n",
    "'values':[round(accuracy_score(y_test, predictions), 4)],\n",
    "'model':['knn_5']}\n",
    "model_final = pd.DataFrame(data = model_final_dict)\n",
    "print(model_final)\n",
    "\n"
   ]
  },
  {
   "cell_type": "code",
   "execution_count": null,
   "metadata": {},
   "outputs": [],
   "source": [
    "#=================================================-\n",
    "#### Slide 62: Saving the accuracy into a pickle file  ####\n",
    "\n",
    "pickle.dump(model_final, open(\"model_final.sav\",\"wb\" ))\n",
    "\n"
   ]
  },
  {
   "cell_type": "code",
   "execution_count": null,
   "metadata": {},
   "outputs": [],
   "source": [
    "#=================================================-\n",
    "#### Slide 66: Plot ROC and calculate AUC  ####\n",
    "\n",
    "# Store FPR, TPR, and threshold as variables.\n",
    "fpr, tpr, threshold = metrics.roc_curve(y_test, predictions)\n",
    "# Store the AUC.\n",
    "roc_auc = metrics.auc(fpr, tpr)\n",
    "plt.title('Receiver Operating Characteristic')\n",
    "plt.plot(fpr, tpr, 'b', label = 'AUC = %0.2f' % roc_auc)\n",
    "plt.legend(loc = 'lower right')\n",
    "plt.plot([0, 1], [0, 1],'r--')\n",
    "plt.xlim([0, 1])\n",
    "plt.ylim([0, 1])\n",
    "plt.ylabel('True Positive Rate')\n",
    "plt.xlabel('False Positive Rate')\n",
    "plt.show()\n",
    "\n"
   ]
  }
 ],
 "metadata": {
  "kernelspec": {
   "display_name": "Python 3",
   "language": "python",
   "name": "python3"
  },
  "language_info": {
   "codemirror_mode": {
    "name": "ipython",
    "version": 3
   },
   "file_extension": ".py",
   "mimetype": "text/x-python",
   "name": "python",
   "nbconvert_exporter": "python",
   "pygments_lexer": "ipython3",
   "version": "3.6.9"
  }
 },
 "nbformat": 4,
 "nbformat_minor": 2
}
