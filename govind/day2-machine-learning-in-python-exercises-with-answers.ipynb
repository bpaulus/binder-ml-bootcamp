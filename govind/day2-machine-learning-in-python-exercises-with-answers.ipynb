{
 "cells": [
  {
   "cell_type": "markdown",
   "metadata": {},
   "source": [
    "# Day 2 Machine Learning in Python - exercises with answers"
   ]
  },
  {
   "cell_type": "markdown",
   "metadata": {},
   "source": [
    "## Exercise 1"
   ]
  },
  {
   "cell_type": "markdown",
   "metadata": {},
   "source": [
    "#### Question 1 \n",
    "##### Import the required packages to perform K-nearest neighbours."
   ]
  },
  {
   "cell_type": "markdown",
   "metadata": {},
   "source": [
    "#### Answer:\n"
   ]
  },
  {
   "cell_type": "code",
   "execution_count": 1,
   "metadata": {},
   "outputs": [],
   "source": [
    "import os\n",
    "import pandas as pd\n",
    "import numpy as np\n",
    "import matplotlib.pyplot as plt\n",
    "import warnings\n",
    "warnings.filterwarnings(\"ignore\", category=FutureWarning)\n",
    "\n",
    "# New today - we will introduce it when we use it.\n",
    "import pickle\n",
    "from sklearn.model_selection import train_test_split\n",
    "from sklearn.neighbors import KNeighborsClassifier\n",
    "from sklearn.preprocessing import scale\n",
    "from sklearn.model_selection import cross_val_score\n",
    "from sklearn.model_selection import GridSearchCV\n",
    "from sklearn.metrics import accuracy_score, classification_report, confusion_matrix\n",
    "from sklearn import metrics\n"
   ]
  },
  {
   "cell_type": "markdown",
   "metadata": {},
   "source": [
    "#### Question 2 \n",
    "##### Set `main_dir` to the location of your `skillsoft-intro-to-machine-learning-in-python` folder.\n",
    "##### Make `data_dir` from the `main_dir` and concatenate remainder of the path to data directory."
   ]
  },
  {
   "cell_type": "markdown",
   "metadata": {},
   "source": [
    "#### Answer:"
   ]
  },
  {
   "cell_type": "code",
   "execution_count": 2,
   "metadata": {},
   "outputs": [],
   "source": [
    "from pathlib import Path\n",
    "# Set `home_dir` to the root directory of your computer.\n",
    "home_dir = Path.home()\n",
    "# Set `main_dir` to the location of your `skillsoft-intro-to-machine-learning-in-python` folder.\n",
    "main_dir = home_dir / \"Desktop\" / \"skillsoft-intro-to-machine-learning-in-python\"\n",
    "# Make `data_dir` from the `main_dir` and remainder of the path to data directory.\n",
    "data_dir = main_dir / \"data\"\n",
    "# Create a plot directory to save our plots\n",
    "plot_dir = main_dir / \"plots\""
   ]
  },
  {
   "cell_type": "markdown",
   "metadata": {},
   "source": [
    "#### Question 3 \n",
    "##### Set the working directory to `data_dir`.\n",
    "##### Check if the working directory is updated to `data_dir'."
   ]
  },
  {
   "cell_type": "markdown",
   "metadata": {},
   "source": [
    "#### Answer:"
   ]
  },
  {
   "cell_type": "code",
   "execution_count": 3,
   "metadata": {},
   "outputs": [
    {
     "name": "stdout",
     "output_type": "stream",
     "text": [
      "C:\\Users\\aashe\\Desktop\\skillsoft-intro-to-machine-learning-in-python\\data\n"
     ]
    }
   ],
   "source": [
    "# Change the working directory.\n",
    "os.chdir(data_dir)\n",
    "\n",
    "# Check the working directory.\n",
    "print(os.getcwd())"
   ]
  },
  {
   "cell_type": "markdown",
   "metadata": {},
   "source": [
    "#### Question 4 \n",
    "##### Load the `chicago_census.csv` dataset. \n",
    "##### Save it as `chicago_census` and print the few rows"
   ]
  },
  {
   "cell_type": "markdown",
   "metadata": {},
   "source": [
    "#### Answer:"
   ]
  },
  {
   "cell_type": "code",
   "execution_count": 4,
   "metadata": {},
   "outputs": [
    {
     "data": {
      "text/html": [
       "<div>\n",
       "<style scoped>\n",
       "    .dataframe tbody tr th:only-of-type {\n",
       "        vertical-align: middle;\n",
       "    }\n",
       "\n",
       "    .dataframe tbody tr th {\n",
       "        vertical-align: top;\n",
       "    }\n",
       "\n",
       "    .dataframe thead th {\n",
       "        text-align: right;\n",
       "    }\n",
       "</style>\n",
       "<table border=\"1\" class=\"dataframe\">\n",
       "  <thead>\n",
       "    <tr style=\"text-align: right;\">\n",
       "      <th></th>\n",
       "      <th>Community Area Number</th>\n",
       "      <th>COMMUNITY AREA NAME</th>\n",
       "      <th>PERCENT OF HOUSING CROWDED</th>\n",
       "      <th>PERCENT HOUSEHOLDS BELOW POVERTY</th>\n",
       "      <th>PERCENT AGED 16+ UNEMPLOYED</th>\n",
       "      <th>PERCENT AGED 25+ WITHOUT HIGH SCHOOL DIPLOMA</th>\n",
       "      <th>PERCENT AGED UNDER 18 OR OVER 64</th>\n",
       "      <th>PER CAPITA INCOME</th>\n",
       "      <th>HARDSHIP INDEX</th>\n",
       "    </tr>\n",
       "  </thead>\n",
       "  <tbody>\n",
       "    <tr>\n",
       "      <th>0</th>\n",
       "      <td>1.0</td>\n",
       "      <td>Rogers Park</td>\n",
       "      <td>7.7</td>\n",
       "      <td>23.6</td>\n",
       "      <td>8.7</td>\n",
       "      <td>18.2</td>\n",
       "      <td>27.5</td>\n",
       "      <td>23939</td>\n",
       "      <td>39.0</td>\n",
       "    </tr>\n",
       "    <tr>\n",
       "      <th>1</th>\n",
       "      <td>2.0</td>\n",
       "      <td>West Ridge</td>\n",
       "      <td>7.8</td>\n",
       "      <td>17.2</td>\n",
       "      <td>8.8</td>\n",
       "      <td>20.8</td>\n",
       "      <td>38.5</td>\n",
       "      <td>23040</td>\n",
       "      <td>46.0</td>\n",
       "    </tr>\n",
       "    <tr>\n",
       "      <th>2</th>\n",
       "      <td>3.0</td>\n",
       "      <td>Uptown</td>\n",
       "      <td>3.8</td>\n",
       "      <td>24.0</td>\n",
       "      <td>8.9</td>\n",
       "      <td>11.8</td>\n",
       "      <td>22.2</td>\n",
       "      <td>35787</td>\n",
       "      <td>20.0</td>\n",
       "    </tr>\n",
       "    <tr>\n",
       "      <th>3</th>\n",
       "      <td>4.0</td>\n",
       "      <td>Lincoln Square</td>\n",
       "      <td>3.4</td>\n",
       "      <td>10.9</td>\n",
       "      <td>8.2</td>\n",
       "      <td>13.4</td>\n",
       "      <td>25.5</td>\n",
       "      <td>37524</td>\n",
       "      <td>17.0</td>\n",
       "    </tr>\n",
       "    <tr>\n",
       "      <th>4</th>\n",
       "      <td>5.0</td>\n",
       "      <td>North Center</td>\n",
       "      <td>0.3</td>\n",
       "      <td>7.5</td>\n",
       "      <td>5.2</td>\n",
       "      <td>4.5</td>\n",
       "      <td>26.2</td>\n",
       "      <td>57123</td>\n",
       "      <td>6.0</td>\n",
       "    </tr>\n",
       "  </tbody>\n",
       "</table>\n",
       "</div>"
      ],
      "text/plain": [
       "   Community Area Number COMMUNITY AREA NAME  PERCENT OF HOUSING CROWDED  \\\n",
       "0                    1.0         Rogers Park                         7.7   \n",
       "1                    2.0          West Ridge                         7.8   \n",
       "2                    3.0              Uptown                         3.8   \n",
       "3                    4.0      Lincoln Square                         3.4   \n",
       "4                    5.0        North Center                         0.3   \n",
       "\n",
       "   PERCENT HOUSEHOLDS BELOW POVERTY  PERCENT AGED 16+ UNEMPLOYED  \\\n",
       "0                              23.6                          8.7   \n",
       "1                              17.2                          8.8   \n",
       "2                              24.0                          8.9   \n",
       "3                              10.9                          8.2   \n",
       "4                               7.5                          5.2   \n",
       "\n",
       "   PERCENT AGED 25+ WITHOUT HIGH SCHOOL DIPLOMA  \\\n",
       "0                                          18.2   \n",
       "1                                          20.8   \n",
       "2                                          11.8   \n",
       "3                                          13.4   \n",
       "4                                           4.5   \n",
       "\n",
       "   PERCENT AGED UNDER 18 OR OVER 64  PER CAPITA INCOME   HARDSHIP INDEX  \n",
       "0                              27.5               23939            39.0  \n",
       "1                              38.5               23040            46.0  \n",
       "2                              22.2               35787            20.0  \n",
       "3                              25.5               37524            17.0  \n",
       "4                              26.2               57123             6.0  "
      ]
     },
     "execution_count": 4,
     "metadata": {},
     "output_type": "execute_result"
    }
   ],
   "source": [
    "chicago_census = pd.read_csv(\"chicago_census.csv\")\n",
    "\n",
    "# Look at the first five rows using .head().\n",
    "chicago_census.head()"
   ]
  },
  {
   "cell_type": "markdown",
   "metadata": {},
   "source": [
    "#### Question 5 \n",
    "###### Rename the column names as the following (and double check they are renamed by looking at `.columns`):\n",
    "###### c(\"community_number\", \"community_area\", \"percent_house_crowded\", \"percent_house_below_poverty\",\n",
    "###### \"percent_16_unemployed\", \"percent_25_without_diploma\", \"percent_dependent\", \"per_capita_income\",\n",
    "###### \"hardship_index\")\n",
    "\n",
    "###### Hint: Use the code below to rename the columns."
   ]
  },
  {
   "cell_type": "code",
   "execution_count": 5,
   "metadata": {},
   "outputs": [],
   "source": [
    "chicago_census.rename(columns={'Community Area Number': 'community_number',\n",
    "                               'COMMUNITY AREA NAME': 'community_area' , \n",
    "                               'PERCENT OF HOUSING CROWDED': 'percent_house_crowded', \n",
    "                               'PERCENT HOUSEHOLDS BELOW POVERTY': 'percent_house_below_poverty', \n",
    "                               'PERCENT AGED 16+ UNEMPLOYED': 'percent_16_unemployed' , \n",
    "                               'PERCENT AGED 25+ WITHOUT HIGH SCHOOL DIPLOMA': 'percent_25_without_diploma', \n",
    "                               'PERCENT AGED UNDER 18 OR OVER 64': 'percent_dependent', \n",
    "                               'PER CAPITA INCOME ' : 'per_capita_income',\n",
    "                               'HARDSHIP INDEX': 'hardship_index'}, inplace=True)"
   ]
  },
  {
   "cell_type": "markdown",
   "metadata": {},
   "source": [
    "#### Answer:"
   ]
  },
  {
   "cell_type": "code",
   "execution_count": 6,
   "metadata": {},
   "outputs": [],
   "source": [
    "chicago_census.rename(columns={'Community Area Number': 'community_number',\n",
    "                               'COMMUNITY AREA NAME': 'community_area' , \n",
    "                               'PERCENT OF HOUSING CROWDED': 'percent_house_crowded', \n",
    "                               'PERCENT HOUSEHOLDS BELOW POVERTY': 'percent_house_below_poverty', \n",
    "                               'PERCENT AGED 16+ UNEMPLOYED': 'percent_16_unemployed' , \n",
    "                               'PERCENT AGED 25+ WITHOUT HIGH SCHOOL DIPLOMA': 'percent_25_without_diploma', \n",
    "                               'PERCENT AGED UNDER 18 OR OVER 64': 'percent_dependent', \n",
    "                               'PER CAPITA INCOME ' : 'per_capita_income',\n",
    "                               'HARDSHIP INDEX': 'hardship_index'}, inplace=True)"
   ]
  },
  {
   "cell_type": "code",
   "execution_count": 7,
   "metadata": {},
   "outputs": [
    {
     "data": {
      "text/plain": [
       "Index(['community_number', 'community_area', 'percent_house_crowded',\n",
       "       'percent_house_below_poverty', 'percent_16_unemployed',\n",
       "       'percent_25_without_diploma', 'percent_dependent', 'per_capita_income',\n",
       "       'hardship_index'],\n",
       "      dtype='object')"
      ]
     },
     "execution_count": 7,
     "metadata": {},
     "output_type": "execute_result"
    }
   ],
   "source": [
    "# Check the columns were renamed.\n",
    "chicago_census.columns"
   ]
  },
  {
   "cell_type": "markdown",
   "metadata": {},
   "source": [
    "#### Question 6 \n",
    "###### Add a new variable to the dataframe called \"income\".\n",
    "###### Set `income` to 0 if per_capita_income of the row is less than the mean per_capita_income, otherwise set `income` to 1.\n",
    "###### Make a new duplicate dataframe called \"chicago_knn\"."
   ]
  },
  {
   "cell_type": "markdown",
   "metadata": {},
   "source": [
    "#### Answer:"
   ]
  },
  {
   "cell_type": "code",
   "execution_count": 8,
   "metadata": {},
   "outputs": [],
   "source": [
    "# Define per_capita_income mean.\n",
    "mean_per_capita_income = chicago_census['per_capita_income'].mean()\n",
    "chicago_census['income'] = np.where(chicago_census['per_capita_income'] < mean_per_capita_income,0,1 )\n",
    "chicago_knn = chicago_census"
   ]
  },
  {
   "cell_type": "markdown",
   "metadata": {},
   "source": [
    "#### Question 7\n",
    "###### Look for NAs in `chicago_knn` and impute with either a 0 or the mean.\n",
    "###### Impute community_member with 0 and hardship_index with mean.\n",
    "###### Check for NAs after again to make sure the data looks good."
   ]
  },
  {
   "cell_type": "markdown",
   "metadata": {},
   "source": [
    "#### Answer:"
   ]
  },
  {
   "cell_type": "code",
   "execution_count": 9,
   "metadata": {},
   "outputs": [
    {
     "data": {
      "text/plain": [
       "community_number               1\n",
       "community_area                 0\n",
       "percent_house_crowded          0\n",
       "percent_house_below_poverty    0\n",
       "percent_16_unemployed          0\n",
       "percent_25_without_diploma     0\n",
       "percent_dependent              0\n",
       "per_capita_income              0\n",
       "hardship_index                 1\n",
       "income                         0\n",
       "dtype: int64"
      ]
     },
     "execution_count": 9,
     "metadata": {},
     "output_type": "execute_result"
    }
   ],
   "source": [
    "# Check for NAs.\n",
    "chicago_knn.isnull().sum(axis=0)"
   ]
  },
  {
   "cell_type": "code",
   "execution_count": 10,
   "metadata": {},
   "outputs": [
    {
     "data": {
      "text/plain": [
       "community_number               0\n",
       "community_area                 0\n",
       "percent_house_crowded          0\n",
       "percent_house_below_poverty    0\n",
       "percent_16_unemployed          0\n",
       "percent_25_without_diploma     0\n",
       "percent_dependent              0\n",
       "per_capita_income              0\n",
       "hardship_index                 0\n",
       "income                         0\n",
       "dtype: int64"
      ]
     },
     "execution_count": 10,
     "metadata": {},
     "output_type": "execute_result"
    }
   ],
   "source": [
    "# Fill the community number with 0, because the mean will not apply here.\n",
    "chicago_knn.community_number = chicago_knn.community_number.fillna(0)\n",
    "# Fill the hardship_index with the mean of the column.\n",
    "chicago_knn.hardship_index = chicago_knn.hardship_index.fillna(chicago_knn.hardship_index.mean())\n",
    "# Check for NAs again:\n",
    "chicago_knn.isnull().sum(axis=0)"
   ]
  },
  {
   "cell_type": "markdown",
   "metadata": {},
   "source": [
    "#### Question 8\n",
    "##### Check the data types of the columns. \n",
    "##### Make sure to only keep numeric columns for kNN. Also, drop `community_number` as it is an ID and we do not want to scale it.\n",
    "##### Once you ensure that all variables are numeric, transform the target variable `income` to boolean.\n",
    "##### After you are done, save `chicago_numeric` as `ex_cleaned_knn.csv` for later use."
   ]
  },
  {
   "cell_type": "markdown",
   "metadata": {},
   "source": [
    "#### Answer:"
   ]
  },
  {
   "cell_type": "code",
   "execution_count": 11,
   "metadata": {},
   "outputs": [
    {
     "data": {
      "text/plain": [
       "community_number               float64\n",
       "community_area                  object\n",
       "percent_house_crowded          float64\n",
       "percent_house_below_poverty    float64\n",
       "percent_16_unemployed          float64\n",
       "percent_25_without_diploma     float64\n",
       "percent_dependent              float64\n",
       "per_capita_income                int64\n",
       "hardship_index                 float64\n",
       "income                           int32\n",
       "dtype: object"
      ]
     },
     "execution_count": 11,
     "metadata": {},
     "output_type": "execute_result"
    }
   ],
   "source": [
    "# Check for all numeric variables.\n",
    "chicago_knn.dtypes"
   ]
  },
  {
   "cell_type": "code",
   "execution_count": 12,
   "metadata": {},
   "outputs": [
    {
     "data": {
      "text/plain": [
       "community_number               float64\n",
       "community_area                  object\n",
       "percent_house_crowded          float64\n",
       "percent_house_below_poverty    float64\n",
       "percent_16_unemployed          float64\n",
       "percent_25_without_diploma     float64\n",
       "percent_dependent              float64\n",
       "per_capita_income                int64\n",
       "hardship_index                 float64\n",
       "income                           int32\n",
       "dtype: object"
      ]
     },
     "execution_count": 12,
     "metadata": {},
     "output_type": "execute_result"
    }
   ],
   "source": [
    "# Drop community area, it is not numeric and community number (this is an ID number).\n",
    "chicago_numeric = chicago_knn.drop(['community_area','community_number'], axis = 1)\n",
    "\n",
    "# Check for all numeric variables now.\n",
    "chicago_knn.dtypes"
   ]
  },
  {
   "cell_type": "code",
   "execution_count": 13,
   "metadata": {},
   "outputs": [],
   "source": [
    "chicago_numeric[\"income\"] = np.where(chicago_numeric[\"income\"] == 0, False, True)"
   ]
  },
  {
   "cell_type": "code",
   "execution_count": 14,
   "metadata": {},
   "outputs": [],
   "source": [
    "chicago_numeric.to_csv(\"ex_cleaned_knn.csv\", index = False)"
   ]
  },
  {
   "cell_type": "markdown",
   "metadata": {},
   "source": [
    "#### Question 9\n",
    "###### Once you ensure that all variables are numeric and that the target variable is Boolean, scale the variables using `scale()`.\n",
    "###### When using `scale()`, remember that you first have to split your predictors from your target.\n",
    "###### Label your scaled data `ex_X_scaled` (predictors) and `ex_y` (target).\n",
    "###### Display the first five records in `ex_X_scaled.`"
   ]
  },
  {
   "cell_type": "code",
   "execution_count": 15,
   "metadata": {},
   "outputs": [
    {
     "name": "stdout",
     "output_type": "stream",
     "text": [
      "[[ 0.76455091  0.16341619 -0.89126115 -0.18256997 -1.13545603 -0.10981094\n",
      "  -0.37098756]\n",
      " [ 0.79205781 -0.39879857 -0.87784062  0.04020494  0.38438995 -0.16935257\n",
      "  -0.12381538]\n",
      " [-0.3082184   0.19855461 -0.86442008 -0.73093897 -1.86774546  0.6748935\n",
      "  -1.04188347]\n",
      " [-0.41824602 -0.95222873 -0.95836383 -0.59384672 -1.41179167  0.78993668\n",
      "  -1.1478144 ]\n",
      " [-1.27096009 -1.25090533 -1.36097987 -1.35642237 -1.3150742   2.08799731\n",
      "  -1.53622783]]\n"
     ]
    }
   ],
   "source": [
    "# Split the data into X and y - y is categorical, so it can't scale.\n",
    "ex_X = chicago_numeric.drop('income', axis = 1)\n",
    "ex_y = np.array(chicago_numeric['income'])\n",
    "\n",
    "# Scale X.\n",
    "ex_X_scaled = scale(ex_X)\n",
    "print(ex_X_scaled[0:5])"
   ]
  },
  {
   "cell_type": "markdown",
   "metadata": {},
   "source": [
    "## Exercise 2"
   ]
  },
  {
   "cell_type": "markdown",
   "metadata": {},
   "source": [
    "#### Question 1\n",
    "###### Split the scaled data into train and test, use a 70 train - 30 test split. \n",
    "###### Name your train `ex_X_train` and `ex_y_train` and your test as `ex_X_test` and `ex_y_test`.\n",
    "###### Don't forget to set the seed as `np.random.seed(2)`.\n",
    "\n"
   ]
  },
  {
   "cell_type": "markdown",
   "metadata": {},
   "source": [
    "#### Answer:"
   ]
  },
  {
   "cell_type": "code",
   "execution_count": 16,
   "metadata": {},
   "outputs": [],
   "source": [
    "# Set the seed.\n",
    "np.random.seed(2)\n",
    "\n",
    "# Split into train and test data.\n",
    "ex_X_train, ex_X_test, ex_y_train, ex_y_test = train_test_split(ex_X_scaled, \n",
    "                                                                ex_y, \n",
    "                                                                test_size = 0.3) "
   ]
  },
  {
   "cell_type": "markdown",
   "metadata": {},
   "source": [
    "#### Question 2\n",
    "###### Instantiate a kNN model that uses 5 nearest neighbors.\n",
    "###### Name it `ex_knn`.\n",
    "###### Fit the classifier to the data."
   ]
  },
  {
   "cell_type": "markdown",
   "metadata": {},
   "source": [
    "#### Answer:"
   ]
  },
  {
   "cell_type": "code",
   "execution_count": 17,
   "metadata": {},
   "outputs": [
    {
     "data": {
      "text/plain": [
       "KNeighborsClassifier(algorithm='auto', leaf_size=30, metric='minkowski',\n",
       "                     metric_params=None, n_jobs=None, n_neighbors=5, p=2,\n",
       "                     weights='uniform')"
      ]
     },
     "execution_count": 17,
     "metadata": {},
     "output_type": "execute_result"
    }
   ],
   "source": [
    "# Create KNN classifier.\n",
    "ex_knn = KNeighborsClassifier(n_neighbors = 5)\n",
    "# Fit the classifier to the data.\n",
    "ex_knn.fit(ex_X_train, ex_y_train)"
   ]
  },
  {
   "cell_type": "markdown",
   "metadata": {},
   "source": [
    "#### Question 3\n",
    "###### Predict on the test data. Save as `ex_predictions`.\n",
    "###### Print out your first 5 predictions, then look at the first 5 actual vs. predicted observations.\n",
    "###### Name actual vs predicted object as `ex_actual_v_predicted`."
   ]
  },
  {
   "cell_type": "markdown",
   "metadata": {},
   "source": [
    "#### Answer:"
   ]
  },
  {
   "cell_type": "code",
   "execution_count": 18,
   "metadata": {},
   "outputs": [
    {
     "name": "stdout",
     "output_type": "stream",
     "text": [
      "[False False  True False  True]\n"
     ]
    }
   ],
   "source": [
    "# Predict on test.\n",
    "ex_predictions = ex_knn.predict(ex_X_test)\n",
    "# Print the first 5 predictions.\n",
    "print(ex_predictions[0:5])"
   ]
  },
  {
   "cell_type": "code",
   "execution_count": 19,
   "metadata": {},
   "outputs": [
    {
     "name": "stdout",
     "output_type": "stream",
     "text": [
      "[[False False]\n",
      " [False False]\n",
      " [ True  True]\n",
      " [False False]\n",
      " [ True  True]]\n"
     ]
    }
   ],
   "source": [
    "# Print the first 5 actual vs. predicted.\n",
    "ex_actual_v_predicted = np.column_stack((ex_y_test, ex_predictions))\n",
    "print(ex_actual_v_predicted[0:5])"
   ]
  },
  {
   "cell_type": "markdown",
   "metadata": {},
   "source": [
    "#### Question 4\n",
    "###### Now, let's analyze our model.\n",
    "###### Build a confusion matrix. Name it ex_cm_knn5."
   ]
  },
  {
   "cell_type": "markdown",
   "metadata": {},
   "source": [
    "#### Answer:"
   ]
  },
  {
   "cell_type": "code",
   "execution_count": 20,
   "metadata": {},
   "outputs": [
    {
     "name": "stdout",
     "output_type": "stream",
     "text": [
      "[[13  4]\n",
      " [ 0  7]]\n"
     ]
    }
   ],
   "source": [
    "# Confusion matrix for knn.\n",
    "ex_cm_knn5 = confusion_matrix(ex_y_test, ex_predictions)\n",
    "print(ex_cm_knn5)"
   ]
  },
  {
   "cell_type": "markdown",
   "metadata": {},
   "source": [
    "#### Question 5\n",
    "###### Now calculate accuracy of our model by comparing our predictions to our actual values. \n",
    "###### Round the accuracy to four decimal values."
   ]
  },
  {
   "cell_type": "markdown",
   "metadata": {},
   "source": [
    "#### Answer:"
   ]
  },
  {
   "cell_type": "code",
   "execution_count": 21,
   "metadata": {},
   "outputs": [
    {
     "name": "stdout",
     "output_type": "stream",
     "text": [
      "0.8333\n"
     ]
    }
   ],
   "source": [
    "print(round(accuracy_score(ex_y_test,ex_predictions),4))"
   ]
  },
  {
   "cell_type": "markdown",
   "metadata": {},
   "source": [
    "#### Question 6\n",
    "###### Create a dictionary similar to what we created in class, where you will store final accuracy scores of all your classification models.\n",
    "###### Name it `ex_model_final_dict`.\n",
    "###### Convert the dictionary to a dataframe and name it as `ex_model_final`.\n",
    "###### Display the dataframe.\n",
    "###### Pickle the dataframe `ex_model_final` as `ex_model_final.sav`"
   ]
  },
  {
   "cell_type": "code",
   "execution_count": 22,
   "metadata": {},
   "outputs": [],
   "source": [
    "# Create a dictionary with accuracy values for our knn model with k = 5.\n",
    "ex_model_final_dict = {'metrics': [\"accuracy\"],\n",
    "                       'values':[round(accuracy_score(ex_y_test, ex_predictions), 4)],\n",
    "                       'model':['knn_5']}\n",
    "ex_model_final = pd.DataFrame(data = ex_model_final_dict)"
   ]
  },
  {
   "cell_type": "code",
   "execution_count": 23,
   "metadata": {},
   "outputs": [],
   "source": [
    "# Pickle `ex_model_final` dataframe.\n",
    "pickle.dump(ex_model_final, open(\"ex_model_final.sav\",\"wb\" ))"
   ]
  },
  {
   "cell_type": "code",
   "execution_count": null,
   "metadata": {},
   "outputs": [],
   "source": []
  }
 ],
 "metadata": {
  "kernelspec": {
   "display_name": "Python 3",
   "language": "python",
   "name": "python3"
  },
  "language_info": {
   "codemirror_mode": {
    "name": "ipython",
    "version": 3
   },
   "file_extension": ".py",
   "mimetype": "text/x-python",
   "name": "python",
   "nbconvert_exporter": "python",
   "pygments_lexer": "ipython3",
   "version": "3.6.9"
  }
 },
 "nbformat": 4,
 "nbformat_minor": 2
}
