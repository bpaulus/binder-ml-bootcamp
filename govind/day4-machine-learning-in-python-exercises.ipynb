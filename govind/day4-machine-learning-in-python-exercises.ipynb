{
 "cells": [
  {
   "cell_type": "markdown",
   "metadata": {},
   "source": [
    "# Day 4 Introduction to machine learning in Python - Exercises"
   ]
  },
  {
   "cell_type": "markdown",
   "metadata": {},
   "source": [
    "## Exercise 1"
   ]
  },
  {
   "cell_type": "markdown",
   "metadata": {},
   "source": [
    "### Question 1\n",
    "#### Import the required packages.\n",
    "#### Set the working directory to data directory.\n",
    "#### Print the working directory."
   ]
  },
  {
   "cell_type": "markdown",
   "metadata": {},
   "source": [
    "#### Answer:"
   ]
  },
  {
   "cell_type": "markdown",
   "metadata": {},
   "source": [
    "### Question 2\n",
    "#### Load the pickled dataset `ex_classification_cleaned.sav` and save it to `ex_classification`.\n",
    "#### Drop `per_capita_income` from `ex_classification`.\n",
    "#### Print the first few rows of `ex_classification`.\n",
    "#### We don't need to do additional data preparation because we've done it during last session's exercise. \n",
    "#### Check the data types for all of the variables just in case.\n",
    "#### Look at the count of each class in `income`."
   ]
  },
  {
   "cell_type": "markdown",
   "metadata": {},
   "source": [
    "#### Answer:"
   ]
  },
  {
   "cell_type": "markdown",
   "metadata": {},
   "source": [
    "### Question 3\n",
    "#### Set the random seed to 2.\n",
    "#### Separate the predictors from the data by dropping the target variable `income` and save as `ex_X`.\n",
    "#### Save target variable `income` as an np array to `ex_y`.\n",
    "#### Split our data `ex_X` and `ex_y` into training and test sets. Split 70% into the training set and remaining 30% into the test set.\n",
    "#### Save them as `ex_X_train`, `ex_X_test`, `ex_y_train` and `ex_y_test` respectively."
   ]
  },
  {
   "cell_type": "markdown",
   "metadata": {},
   "source": [
    "#### Answer:"
   ]
  },
  {
   "cell_type": "markdown",
   "metadata": {},
   "source": [
    "### Question 4\n",
    "#### Instantiate the logistic regression model and save it to `ex_logistic_regression_model`. Print it.\n",
    "#### Fit the model with our training sets `ex_X_train` and `ex_y_train`.\n",
    "#### Note: If you encounter any warning, use the code below to set up the logistic regression model\n",
    "#### ex_logistic_regression_model = linear_model.LogisticRegression(solver='lbfgs')"
   ]
  },
  {
   "cell_type": "markdown",
   "metadata": {},
   "source": [
    "#### Answer:"
   ]
  },
  {
   "cell_type": "markdown",
   "metadata": {},
   "source": [
    "### Question 5\n",
    "#### Now use the trained model to predict on our test set `ex_X_test`. Save as `ex_predicted_values`.\n",
    "#### Print the vector of predictions obtained."
   ]
  },
  {
   "cell_type": "markdown",
   "metadata": {},
   "source": [
    "#### Answer:"
   ]
  },
  {
   "cell_type": "markdown",
   "metadata": {},
   "source": [
    "## Exercise 2"
   ]
  },
  {
   "cell_type": "markdown",
   "metadata": {},
   "source": [
    "### Question 1\n",
    "#### Create a confusion matrix using the `metrics.confusion_matrix()` function.\n",
    "#### Save as `ex_conf_matrix` and print.\n",
    "#### What can you determine by looking at the confusion matrix?"
   ]
  },
  {
   "cell_type": "markdown",
   "metadata": {},
   "source": [
    "#### Answer:"
   ]
  },
  {
   "cell_type": "markdown",
   "metadata": {},
   "source": [
    "### Question 2\n",
    "#### Calculate the accuracy of our model by comparing our predicted values against our test set `ex_y_test`.\n",
    "#### Save as `ex_test_accuracy` and print."
   ]
  },
  {
   "cell_type": "markdown",
   "metadata": {},
   "source": [
    "### Question 3\n",
    "#### Load the pickled dataset `ex_model_final.sav` which we saved earlier.\n",
    "#### Add the above accuracy score `ex_test_accuracy` calculated above to the dataframe `ex_model_final` which we created earlier and view the output."
   ]
  },
  {
   "cell_type": "markdown",
   "metadata": {},
   "source": [
    "#### Answer:"
   ]
  },
  {
   "cell_type": "markdown",
   "metadata": {},
   "source": [
    "### Question 4\n",
    "#### Create a list named `target_names` with the class names, `Low Income` and `High Income`.\n",
    "#### Create a report `ex_class_report` using our test values `ex_y_test` and predicted values `ex_predicted_values` with the following columns:\n",
    "- precision\n",
    "- recall\n",
    "- f1-score\n",
    "- target_names\n"
   ]
  },
  {
   "cell_type": "markdown",
   "metadata": {},
   "source": [
    "#### Answer:"
   ]
  },
  {
   "cell_type": "markdown",
   "metadata": {},
   "source": [
    "### Question 5\n",
    "#### Get the probabilities of predicted values `ex_X_test` and save as `ex_test_probabilities`.\n",
    "#### Then, calculate the probabilities of test predictions only."
   ]
  },
  {
   "cell_type": "markdown",
   "metadata": {},
   "source": [
    "#### Answer:"
   ]
  },
  {
   "cell_type": "markdown",
   "metadata": {},
   "source": [
    "### Question 6\n",
    "#### Derive the `fpr`, `tpr`, and the `threshold` using our test set and predictions.\n",
    "#### Then, calculate the `auc` using the derived `fpr` and `tpr`.\n",
    "#### Plot and ROC curve plot using the values derived above."
   ]
  },
  {
   "cell_type": "markdown",
   "metadata": {},
   "source": [
    "#### Answer:"
   ]
  },
  {
   "cell_type": "markdown",
   "metadata": {},
   "source": [
    "## Exercise 3"
   ]
  },
  {
   "cell_type": "markdown",
   "metadata": {},
   "source": [
    "### Question 1\n",
    "#### For the purpose of demonstrating how to deal with categorical variables, we will convert `hardship_index` to a categorical variable with three variables.\n",
    "#### Take a look at the summary of `hardship_index` using .describe().\n",
    "#### To convert into categorical variable, for those rows where `hardship_index` is lower than the 25, convert to `25 or below`, for those higher than 25 but lower than 73, convert to `Between 25 and 73`, and the rest of the rows to `Higher than 73`.\n",
    "#### Print the value counts of the new `hardship_index` column."
   ]
  },
  {
   "cell_type": "markdown",
   "metadata": {},
   "source": [
    "#### Answer:"
   ]
  },
  {
   "cell_type": "markdown",
   "metadata": {},
   "source": [
    "### Question 2\n",
    "\n",
    "#### Transform `hardship_index` column into a dummy variable and save it into a dataframe named `hardship_dummy`.\n",
    "#### Make sure to set `drop_first` as `True`.\n",
    "#### Drop the original `hardship_index` variable from `ex_classification` and concatenate `hardship_dummy` into `ex_classification`."
   ]
  },
  {
   "cell_type": "markdown",
   "metadata": {},
   "source": [
    "#### Answer:"
   ]
  },
  {
   "cell_type": "markdown",
   "metadata": {},
   "source": [
    "### Question 3\n",
    "#### As we did before, split the dataset into predictors `ex_X` and target `ex_y`.\n",
    "#### Save target variable `income` as an np array to `ex_y`.\n",
    "#### Save the rest of the variables to `ex_X`.\n",
    "#### Split our data `ex_X` and `ex_y` into training and test sets. Split 70% into the training set and remaining 30% into the test set.\n",
    "#### Save them as `ex_X_train`, `ex_X_test`, `ex_y_train` and `ex_y_test` respectively.\n",
    "#### Make sure to set the seed to 2 so you can replicate the results."
   ]
  },
  {
   "cell_type": "markdown",
   "metadata": {},
   "source": [
    "#### Answer:"
   ]
  },
  {
   "cell_type": "markdown",
   "metadata": {},
   "source": [
    "### Question 4\n",
    "#### Instantiate the logistic regression model and save it to `ex_logistic_regression_model`. Print it.\n",
    "#### Fit the model with our training sets `ex_X_train` and `ex_y_train`."
   ]
  },
  {
   "cell_type": "markdown",
   "metadata": {},
   "source": [
    "#### Answer:"
   ]
  },
  {
   "cell_type": "markdown",
   "metadata": {},
   "source": [
    "### Question 5\n",
    "#### Now use the trained model to predict on our test set `ex_X_test`. Save as `ex_predicted_values`.\n",
    "#### Print the vector of predictions obtained.\n",
    "#### Create a confusion matrix using the `metrics.confusion_matrix()` function.\n",
    "#### Save as `ex_conf_matrix` and print.\n",
    "#### Calculate the accuracy of our model by comparing our predicted values against our test set `ex_y_test`."
   ]
  },
  {
   "cell_type": "markdown",
   "metadata": {},
   "source": [
    "#### Answer:"
   ]
  },
  {
   "cell_type": "markdown",
   "metadata": {},
   "source": [
    "### Question 6\n",
    "#### Add the accuracy score `ex_test_accuracy` calculated above with the model name as `logistic_withdummies` to the dataframe `ex_model_final` which we created earlier and view the output."
   ]
  },
  {
   "cell_type": "markdown",
   "metadata": {},
   "source": [
    "#### Answer:"
   ]
  },
  {
   "cell_type": "markdown",
   "metadata": {},
   "source": [
    "### Question 7\n",
    "#### Create a list named `target_names` with the class names as `Low Income` and `High Income`.\n",
    "#### Create a report `ex_class_report` using our test values `ex_y_test` and predicted values `ex_predicted_values` with the following columns:\n",
    "- precision\n",
    "- recall\n",
    "- f1-score\n",
    "- target_names\n"
   ]
  },
  {
   "cell_type": "markdown",
   "metadata": {},
   "source": [
    "#### Answer:"
   ]
  },
  {
   "cell_type": "markdown",
   "metadata": {},
   "source": [
    "### Question 8\n",
    "#### Get the probabilities of predicted values `ex_X_test` and save as `ex_test_probabilities`.\n",
    "#### Then calculate the probabilities of test predictions named `ex_test_predictions`  only. \n",
    "#### Derive the `fpr`, `tpr`, and the `threshold` using our test set and predictions.\n",
    "#### Then calculate the `auc` using the derived `fpr` and `tpr`."
   ]
  },
  {
   "cell_type": "markdown",
   "metadata": {},
   "source": [
    "#### Answer:"
   ]
  },
  {
   "cell_type": "markdown",
   "metadata": {},
   "source": [
    "### Question 9\n",
    "#### Plot and ROC curve plot using the values derived above."
   ]
  },
  {
   "cell_type": "markdown",
   "metadata": {},
   "source": [
    "#### Answer:"
   ]
  }
 ],
 "metadata": {
  "kernelspec": {
   "display_name": "Python 3",
   "language": "python",
   "name": "python3"
  },
  "language_info": {
   "codemirror_mode": {
    "name": "ipython",
    "version": 3
   },
   "file_extension": ".py",
   "mimetype": "text/x-python",
   "name": "python",
   "nbconvert_exporter": "python",
   "pygments_lexer": "ipython3",
   "version": "3.8.5-final"
  },
  "toc": {
   "base_numbering": 1,
   "nav_menu": {},
   "number_sections": true,
   "sideBar": true,
   "skip_h1_title": false,
   "title_cell": "Table of Contents",
   "title_sidebar": "Contents",
   "toc_cell": false,
   "toc_position": {},
   "toc_section_display": true,
   "toc_window_display": false
  }
 },
 "nbformat": 4,
 "nbformat_minor": 2
}