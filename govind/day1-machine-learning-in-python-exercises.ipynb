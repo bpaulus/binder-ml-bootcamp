{
 "cells": [
  {
   "cell_type": "markdown",
   "metadata": {},
   "source": [
    "# Day 1 Machine learning in Python - Exercises"
   ]
  },
  {
   "cell_type": "markdown",
   "metadata": {},
   "source": [
    "## Exercise 1"
   ]
  },
  {
   "cell_type": "markdown",
   "metadata": {},
   "source": [
    "#### Question 1\n",
    "##### Import the required packages.\n",
    "##### Set the working directory to data directory.\n",
    "##### Print the working directory and the plot directory."
   ]
  },
  {
   "cell_type": "code",
   "execution_count": 149,
   "metadata": {},
   "outputs": [],
   "source": [
    "import os\n",
    "from pathlib import Path\n",
    "import pandas as pd\n",
    "import numpy as np\n",
    "import matplotlib.pyplot as plt\n",
    "from mpl_toolkits.mplot3d import Axes3D\n",
    "import sklearn\n",
    "from sklearn import cluster\n",
    "from sklearn.cluster import KMeans\n",
    "from sklearn.preprocessing import MinMaxScaler\n",
    "from scipy.cluster.vq import kmeans\n",
    "from scipy.spatial.distance import cdist,pdist\n",
    "from matplotlib import cm"
   ]
  },
  {
   "cell_type": "code",
   "execution_count": 150,
   "metadata": {},
   "outputs": [],
   "source": [
    "# Set `home_dir` to the root directory of your computer.\n",
    "home_dir = Path.home()\n",
    "# Set `main_dir` to the location of your `skillsoft-intro-to-machine-learning-in-python` folder.\n",
    "main_dir = home_dir / \"Documents\" / \"Learning/percipio/machine-learning-bootcamp\"\n",
    "# Make `data_dir` from the `main_dir` and\n",
    "# remainder of the path to data directory.\n",
    "data_dir = main_dir / \"data\"\n",
    "# Create a plot directory to save our plots\n",
    "plot_dir = main_dir / \"plots\""
   ]
  },
  {
   "cell_type": "code",
   "execution_count": 151,
   "metadata": {},
   "outputs": [
    {
     "name": "stdout",
     "output_type": "stream",
     "text": [
      "/Users/bnpaulus/Documents/Learning/percipio/machine-learning-bootcamp/data\n",
      "/Users/bnpaulus/Documents/Learning/percipio/machine-learning-bootcamp/plots\n"
     ]
    }
   ],
   "source": [
    "os.chdir(data_dir)\n",
    "\n",
    "print(data_dir)\n",
    "print(plot_dir)"
   ]
  },
  {
   "cell_type": "markdown",
   "metadata": {},
   "source": [
    "#### Answer: "
   ]
  },
  {
   "cell_type": "markdown",
   "metadata": {},
   "source": [
    "#### Question 2\n",
    "\n",
    "##### Load the dataset `fast_food_data.csv` and save it as `ex_subset`.\n",
    "\n",
    "##### Print the first few rows of `ex_subset` and its summary using describe().\n",
    "\n",
    "##### Drop all the non-numerical columns from `ex_subset` and print the few rows again to see what the dataframe looks like."
   ]
  },
  {
   "cell_type": "code",
   "execution_count": 152,
   "metadata": {},
   "outputs": [
    {
     "data": {
      "text/html": [
       "<div>\n",
       "<style scoped>\n",
       "    .dataframe tbody tr th:only-of-type {\n",
       "        vertical-align: middle;\n",
       "    }\n",
       "\n",
       "    .dataframe tbody tr th {\n",
       "        vertical-align: top;\n",
       "    }\n",
       "\n",
       "    .dataframe thead th {\n",
       "        text-align: right;\n",
       "    }\n",
       "</style>\n",
       "<table border=\"1\" class=\"dataframe\">\n",
       "  <thead>\n",
       "    <tr style=\"text-align: right;\">\n",
       "      <th></th>\n",
       "      <th>Fast Food Restaurant</th>\n",
       "      <th>Item</th>\n",
       "      <th>Type</th>\n",
       "      <th>Serving Size (g)</th>\n",
       "      <th>Calories</th>\n",
       "      <th>Total Fat (g)</th>\n",
       "      <th>Saturated Fat (g)</th>\n",
       "      <th>Trans Fat (g)</th>\n",
       "      <th>Sodium (mg)</th>\n",
       "      <th>Carbs (g)</th>\n",
       "      <th>Sugars (g)</th>\n",
       "      <th>Protein (g)</th>\n",
       "      <th>Revenue 2016 (billion dollars)</th>\n",
       "    </tr>\n",
       "  </thead>\n",
       "  <tbody>\n",
       "    <tr>\n",
       "      <th>0</th>\n",
       "      <td>McDonald's</td>\n",
       "      <td>Hamburger</td>\n",
       "      <td>Burger</td>\n",
       "      <td>98</td>\n",
       "      <td>240</td>\n",
       "      <td>8.0</td>\n",
       "      <td>3.0</td>\n",
       "      <td>0.0</td>\n",
       "      <td>480</td>\n",
       "      <td>32.0</td>\n",
       "      <td>6.0</td>\n",
       "      <td>12.0</td>\n",
       "      <td>36.4</td>\n",
       "    </tr>\n",
       "    <tr>\n",
       "      <th>1</th>\n",
       "      <td>McDonald's</td>\n",
       "      <td>Cheeseburger</td>\n",
       "      <td>Burger</td>\n",
       "      <td>113</td>\n",
       "      <td>290</td>\n",
       "      <td>11.0</td>\n",
       "      <td>5.0</td>\n",
       "      <td>0.5</td>\n",
       "      <td>680</td>\n",
       "      <td>33.0</td>\n",
       "      <td>7.0</td>\n",
       "      <td>15.0</td>\n",
       "      <td>36.4</td>\n",
       "    </tr>\n",
       "    <tr>\n",
       "      <th>2</th>\n",
       "      <td>McDonald's</td>\n",
       "      <td>Big Mac</td>\n",
       "      <td>Burger</td>\n",
       "      <td>211</td>\n",
       "      <td>530</td>\n",
       "      <td>27.0</td>\n",
       "      <td>10.0</td>\n",
       "      <td>1.0</td>\n",
       "      <td>960</td>\n",
       "      <td>47.0</td>\n",
       "      <td>9.0</td>\n",
       "      <td>24.0</td>\n",
       "      <td>36.4</td>\n",
       "    </tr>\n",
       "    <tr>\n",
       "      <th>3</th>\n",
       "      <td>McDonald's</td>\n",
       "      <td>Quarter Pounder with Cheese</td>\n",
       "      <td>Burger</td>\n",
       "      <td>202</td>\n",
       "      <td>520</td>\n",
       "      <td>26.0</td>\n",
       "      <td>12.0</td>\n",
       "      <td>1.5</td>\n",
       "      <td>1100</td>\n",
       "      <td>41.0</td>\n",
       "      <td>10.0</td>\n",
       "      <td>30.0</td>\n",
       "      <td>36.4</td>\n",
       "    </tr>\n",
       "    <tr>\n",
       "      <th>4</th>\n",
       "      <td>McDonald's</td>\n",
       "      <td>Bacon Clubhouse Burger</td>\n",
       "      <td>Burger</td>\n",
       "      <td>270</td>\n",
       "      <td>720</td>\n",
       "      <td>40.0</td>\n",
       "      <td>15.0</td>\n",
       "      <td>1.5</td>\n",
       "      <td>1470</td>\n",
       "      <td>51.0</td>\n",
       "      <td>14.0</td>\n",
       "      <td>39.0</td>\n",
       "      <td>36.4</td>\n",
       "    </tr>\n",
       "  </tbody>\n",
       "</table>\n",
       "</div>"
      ],
      "text/plain": [
       "  Fast Food Restaurant                         Item    Type  Serving Size (g)  \\\n",
       "0           McDonald's                    Hamburger  Burger                98   \n",
       "1           McDonald's                 Cheeseburger  Burger               113   \n",
       "2           McDonald's                      Big Mac  Burger               211   \n",
       "3           McDonald's  Quarter Pounder with Cheese  Burger               202   \n",
       "4           McDonald's       Bacon Clubhouse Burger  Burger               270   \n",
       "\n",
       "   Calories  Total Fat (g)  Saturated Fat (g)  Trans Fat (g)  Sodium (mg)  \\\n",
       "0       240            8.0                3.0            0.0          480   \n",
       "1       290           11.0                5.0            0.5          680   \n",
       "2       530           27.0               10.0            1.0          960   \n",
       "3       520           26.0               12.0            1.5         1100   \n",
       "4       720           40.0               15.0            1.5         1470   \n",
       "\n",
       "   Carbs (g)  Sugars (g)  Protein (g)  Revenue 2016 (billion dollars)  \n",
       "0       32.0         6.0         12.0                            36.4  \n",
       "1       33.0         7.0         15.0                            36.4  \n",
       "2       47.0         9.0         24.0                            36.4  \n",
       "3       41.0        10.0         30.0                            36.4  \n",
       "4       51.0        14.0         39.0                            36.4  "
      ]
     },
     "execution_count": 152,
     "metadata": {},
     "output_type": "execute_result"
    }
   ],
   "source": [
    "ex_subset = pd.read_csv(\"fast_food_data.csv\")\n",
    "ex_subset.head()"
   ]
  },
  {
   "cell_type": "code",
   "execution_count": 153,
   "metadata": {},
   "outputs": [
    {
     "name": "stdout",
     "output_type": "stream",
     "text": [
      "<class 'pandas.core.frame.DataFrame'>\n",
      "RangeIndex: 126 entries, 0 to 125\n",
      "Data columns (total 13 columns):\n",
      " #   Column                          Non-Null Count  Dtype  \n",
      "---  ------                          --------------  -----  \n",
      " 0   Fast Food Restaurant            126 non-null    object \n",
      " 1   Item                            126 non-null    object \n",
      " 2   Type                            126 non-null    object \n",
      " 3   Serving Size (g)                126 non-null    int64  \n",
      " 4   Calories                        126 non-null    int64  \n",
      " 5   Total Fat (g)                   126 non-null    float64\n",
      " 6   Saturated Fat (g)               126 non-null    float64\n",
      " 7   Trans Fat (g)                   114 non-null    float64\n",
      " 8   Sodium (mg)                     126 non-null    int64  \n",
      " 9   Carbs (g)                       126 non-null    float64\n",
      " 10  Sugars (g)                      126 non-null    float64\n",
      " 11  Protein (g)                     126 non-null    float64\n",
      " 12  Revenue 2016 (billion dollars)  126 non-null    float64\n",
      "dtypes: float64(7), int64(3), object(3)\n",
      "memory usage: 12.9+ KB\n"
     ]
    }
   ],
   "source": [
    "ex_subset.info()"
   ]
  },
  {
   "cell_type": "code",
   "execution_count": 154,
   "metadata": {},
   "outputs": [
    {
     "data": {
      "text/html": [
       "<div>\n",
       "<style scoped>\n",
       "    .dataframe tbody tr th:only-of-type {\n",
       "        vertical-align: middle;\n",
       "    }\n",
       "\n",
       "    .dataframe tbody tr th {\n",
       "        vertical-align: top;\n",
       "    }\n",
       "\n",
       "    .dataframe thead th {\n",
       "        text-align: right;\n",
       "    }\n",
       "</style>\n",
       "<table border=\"1\" class=\"dataframe\">\n",
       "  <thead>\n",
       "    <tr style=\"text-align: right;\">\n",
       "      <th></th>\n",
       "      <th>Serving Size (g)</th>\n",
       "      <th>Calories</th>\n",
       "      <th>Total Fat (g)</th>\n",
       "      <th>Saturated Fat (g)</th>\n",
       "      <th>Trans Fat (g)</th>\n",
       "      <th>Sodium (mg)</th>\n",
       "      <th>Carbs (g)</th>\n",
       "      <th>Sugars (g)</th>\n",
       "      <th>Protein (g)</th>\n",
       "      <th>Revenue 2016 (billion dollars)</th>\n",
       "    </tr>\n",
       "  </thead>\n",
       "  <tbody>\n",
       "    <tr>\n",
       "      <th>0</th>\n",
       "      <td>98</td>\n",
       "      <td>240</td>\n",
       "      <td>8.0</td>\n",
       "      <td>3.0</td>\n",
       "      <td>0.0</td>\n",
       "      <td>480</td>\n",
       "      <td>32.0</td>\n",
       "      <td>6.0</td>\n",
       "      <td>12.0</td>\n",
       "      <td>36.4</td>\n",
       "    </tr>\n",
       "    <tr>\n",
       "      <th>1</th>\n",
       "      <td>113</td>\n",
       "      <td>290</td>\n",
       "      <td>11.0</td>\n",
       "      <td>5.0</td>\n",
       "      <td>0.5</td>\n",
       "      <td>680</td>\n",
       "      <td>33.0</td>\n",
       "      <td>7.0</td>\n",
       "      <td>15.0</td>\n",
       "      <td>36.4</td>\n",
       "    </tr>\n",
       "    <tr>\n",
       "      <th>2</th>\n",
       "      <td>211</td>\n",
       "      <td>530</td>\n",
       "      <td>27.0</td>\n",
       "      <td>10.0</td>\n",
       "      <td>1.0</td>\n",
       "      <td>960</td>\n",
       "      <td>47.0</td>\n",
       "      <td>9.0</td>\n",
       "      <td>24.0</td>\n",
       "      <td>36.4</td>\n",
       "    </tr>\n",
       "    <tr>\n",
       "      <th>3</th>\n",
       "      <td>202</td>\n",
       "      <td>520</td>\n",
       "      <td>26.0</td>\n",
       "      <td>12.0</td>\n",
       "      <td>1.5</td>\n",
       "      <td>1100</td>\n",
       "      <td>41.0</td>\n",
       "      <td>10.0</td>\n",
       "      <td>30.0</td>\n",
       "      <td>36.4</td>\n",
       "    </tr>\n",
       "    <tr>\n",
       "      <th>4</th>\n",
       "      <td>270</td>\n",
       "      <td>720</td>\n",
       "      <td>40.0</td>\n",
       "      <td>15.0</td>\n",
       "      <td>1.5</td>\n",
       "      <td>1470</td>\n",
       "      <td>51.0</td>\n",
       "      <td>14.0</td>\n",
       "      <td>39.0</td>\n",
       "      <td>36.4</td>\n",
       "    </tr>\n",
       "  </tbody>\n",
       "</table>\n",
       "</div>"
      ],
      "text/plain": [
       "   Serving Size (g)  Calories  Total Fat (g)  Saturated Fat (g)  \\\n",
       "0                98       240            8.0                3.0   \n",
       "1               113       290           11.0                5.0   \n",
       "2               211       530           27.0               10.0   \n",
       "3               202       520           26.0               12.0   \n",
       "4               270       720           40.0               15.0   \n",
       "\n",
       "   Trans Fat (g)  Sodium (mg)  Carbs (g)  Sugars (g)  Protein (g)  \\\n",
       "0            0.0          480       32.0         6.0         12.0   \n",
       "1            0.5          680       33.0         7.0         15.0   \n",
       "2            1.0          960       47.0         9.0         24.0   \n",
       "3            1.5         1100       41.0        10.0         30.0   \n",
       "4            1.5         1470       51.0        14.0         39.0   \n",
       "\n",
       "   Revenue 2016 (billion dollars)  \n",
       "0                            36.4  \n",
       "1                            36.4  \n",
       "2                            36.4  \n",
       "3                            36.4  \n",
       "4                            36.4  "
      ]
     },
     "execution_count": 154,
     "metadata": {},
     "output_type": "execute_result"
    }
   ],
   "source": [
    "# ex_subset_cleaned = ex_subset[\n",
    "#     [\n",
    "#         'Serving Size (g)', \n",
    "#         'Calories',\n",
    "#         'Total Fat (g)',\n",
    "#         'Saturated Fat (g)',\n",
    "#         'Trans Fat (g)',\n",
    "#         'Sodium (mg)',\n",
    "#         'Carbs (g)',\n",
    "#         'Sugars (g)',\n",
    "#         'Protein (g)',\n",
    "#         'Revenue 2016 (billion dollars)'\n",
    "    \n",
    "#     ]]\n",
    "ex_subset = ex_subset.drop(['Fast Food Restaurant','Item','Type'], axis = 1)\n",
    "ex_subset.head()                 "
   ]
  },
  {
   "cell_type": "markdown",
   "metadata": {},
   "source": [
    "#### Answer: "
   ]
  },
  {
   "cell_type": "markdown",
   "metadata": {},
   "source": [
    "#### Question 3\n",
    "\n",
    "##### Check how many NAs are in each column and impute them with mean. \n",
    "\n",
    "##### For clustering, we will be using just the `Calories` and `Sodium (mg)` columns. Drop all the other columns from `ex_subset` and name the new dataset as `ex_cluster`. \n",
    "\n",
    "##### Print the first few rows of `ex_cluster` to make sure we have the correct dataset."
   ]
  },
  {
   "cell_type": "code",
   "execution_count": 155,
   "metadata": {},
   "outputs": [
    {
     "name": "stdout",
     "output_type": "stream",
     "text": [
      "Serving Size (g)                   0\n",
      "Calories                           0\n",
      "Total Fat (g)                      0\n",
      "Saturated Fat (g)                  0\n",
      "Trans Fat (g)                     12\n",
      "Sodium (mg)                        0\n",
      "Carbs (g)                          0\n",
      "Sugars (g)                         0\n",
      "Protein (g)                        0\n",
      "Revenue 2016 (billion dollars)     0\n",
      "dtype: int64\n"
     ]
    }
   ],
   "source": [
    "print(ex_subset.isnull().sum())\n",
    "ex_subset = ex_subset.fillna(ex_subset.mean())"
   ]
  },
  {
   "cell_type": "code",
   "execution_count": 156,
   "metadata": {},
   "outputs": [
    {
     "data": {
      "text/plain": [
       "Serving Size (g)                  0\n",
       "Calories                          0\n",
       "Total Fat (g)                     0\n",
       "Saturated Fat (g)                 0\n",
       "Trans Fat (g)                     0\n",
       "Sodium (mg)                       0\n",
       "Carbs (g)                         0\n",
       "Sugars (g)                        0\n",
       "Protein (g)                       0\n",
       "Revenue 2016 (billion dollars)    0\n",
       "dtype: int64"
      ]
     },
     "execution_count": 156,
     "metadata": {},
     "output_type": "execute_result"
    }
   ],
   "source": [
    "ex_subset.isnull().sum()"
   ]
  },
  {
   "cell_type": "code",
   "execution_count": 157,
   "metadata": {},
   "outputs": [
    {
     "data": {
      "text/html": [
       "<div>\n",
       "<style scoped>\n",
       "    .dataframe tbody tr th:only-of-type {\n",
       "        vertical-align: middle;\n",
       "    }\n",
       "\n",
       "    .dataframe tbody tr th {\n",
       "        vertical-align: top;\n",
       "    }\n",
       "\n",
       "    .dataframe thead th {\n",
       "        text-align: right;\n",
       "    }\n",
       "</style>\n",
       "<table border=\"1\" class=\"dataframe\">\n",
       "  <thead>\n",
       "    <tr style=\"text-align: right;\">\n",
       "      <th></th>\n",
       "      <th>Calories</th>\n",
       "      <th>Sodium (mg)</th>\n",
       "    </tr>\n",
       "  </thead>\n",
       "  <tbody>\n",
       "    <tr>\n",
       "      <th>0</th>\n",
       "      <td>240</td>\n",
       "      <td>480</td>\n",
       "    </tr>\n",
       "    <tr>\n",
       "      <th>1</th>\n",
       "      <td>290</td>\n",
       "      <td>680</td>\n",
       "    </tr>\n",
       "    <tr>\n",
       "      <th>2</th>\n",
       "      <td>530</td>\n",
       "      <td>960</td>\n",
       "    </tr>\n",
       "    <tr>\n",
       "      <th>3</th>\n",
       "      <td>520</td>\n",
       "      <td>1100</td>\n",
       "    </tr>\n",
       "    <tr>\n",
       "      <th>4</th>\n",
       "      <td>720</td>\n",
       "      <td>1470</td>\n",
       "    </tr>\n",
       "  </tbody>\n",
       "</table>\n",
       "</div>"
      ],
      "text/plain": [
       "   Calories  Sodium (mg)\n",
       "0       240          480\n",
       "1       290          680\n",
       "2       530          960\n",
       "3       520         1100\n",
       "4       720         1470"
      ]
     },
     "execution_count": 157,
     "metadata": {},
     "output_type": "execute_result"
    }
   ],
   "source": [
    "ex_cluster = ex_subset[['Calories', 'Sodium (mg)']]\n",
    "ex_cluster.head()"
   ]
  },
  {
   "cell_type": "markdown",
   "metadata": {},
   "source": [
    "#### Answer: "
   ]
  },
  {
   "cell_type": "markdown",
   "metadata": {},
   "source": [
    "#### Question 4\n",
    "\n",
    "##### In the dataset `ex_cluster`, check the data types for all of the columns. \n",
    "##### After making sure that all the data is numeric, scale the dataset and name it `ex_cluster_scaled`.\n",
    "##### When the dataset is scaled, convert `ex_cluster_scaled` back to a pandas dataframe and make sure to name the columns again. \n",
    "\n",
    "##### Print out the first few rows of `ex_cluster_scaled` to make sure the column names are correct and are ready for clustering."
   ]
  },
  {
   "cell_type": "code",
   "execution_count": 158,
   "metadata": {},
   "outputs": [
    {
     "data": {
      "text/plain": [
       "Calories       int64\n",
       "Sodium (mg)    int64\n",
       "dtype: object"
      ]
     },
     "execution_count": 158,
     "metadata": {},
     "output_type": "execute_result"
    }
   ],
   "source": [
    "ex_cluster.dtypes"
   ]
  },
  {
   "cell_type": "code",
   "execution_count": 159,
   "metadata": {},
   "outputs": [],
   "source": [
    "scaler = MinMaxScaler()\n",
    "ex_cluster_scaled = scaler.fit_transform(ex_cluster)"
   ]
  },
  {
   "cell_type": "code",
   "execution_count": 160,
   "metadata": {},
   "outputs": [
    {
     "data": {
      "text/html": [
       "<div>\n",
       "<style scoped>\n",
       "    .dataframe tbody tr th:only-of-type {\n",
       "        vertical-align: middle;\n",
       "    }\n",
       "\n",
       "    .dataframe tbody tr th {\n",
       "        vertical-align: top;\n",
       "    }\n",
       "\n",
       "    .dataframe thead th {\n",
       "        text-align: right;\n",
       "    }\n",
       "</style>\n",
       "<table border=\"1\" class=\"dataframe\">\n",
       "  <thead>\n",
       "    <tr style=\"text-align: right;\">\n",
       "      <th></th>\n",
       "      <th>Calories</th>\n",
       "      <th>Sodium (mg)</th>\n",
       "    </tr>\n",
       "  </thead>\n",
       "  <tbody>\n",
       "    <tr>\n",
       "      <th>0</th>\n",
       "      <td>0.099099</td>\n",
       "      <td>0.178423</td>\n",
       "    </tr>\n",
       "    <tr>\n",
       "      <th>1</th>\n",
       "      <td>0.144144</td>\n",
       "      <td>0.261411</td>\n",
       "    </tr>\n",
       "    <tr>\n",
       "      <th>2</th>\n",
       "      <td>0.360360</td>\n",
       "      <td>0.377593</td>\n",
       "    </tr>\n",
       "    <tr>\n",
       "      <th>3</th>\n",
       "      <td>0.351351</td>\n",
       "      <td>0.435685</td>\n",
       "    </tr>\n",
       "    <tr>\n",
       "      <th>4</th>\n",
       "      <td>0.531532</td>\n",
       "      <td>0.589212</td>\n",
       "    </tr>\n",
       "  </tbody>\n",
       "</table>\n",
       "</div>"
      ],
      "text/plain": [
       "   Calories  Sodium (mg)\n",
       "0  0.099099     0.178423\n",
       "1  0.144144     0.261411\n",
       "2  0.360360     0.377593\n",
       "3  0.351351     0.435685\n",
       "4  0.531532     0.589212"
      ]
     },
     "execution_count": 160,
     "metadata": {},
     "output_type": "execute_result"
    }
   ],
   "source": [
    "ex_cluster_scaled = pd.DataFrame(ex_cluster_scaled, columns = ex_cluster.columns)\n",
    "ex_cluster_scaled.head()"
   ]
  },
  {
   "cell_type": "markdown",
   "metadata": {},
   "source": [
    "#### Answer: "
   ]
  },
  {
   "cell_type": "markdown",
   "metadata": {},
   "source": [
    "#### Question 5\n",
    "\n",
    "#####  Rename `ex_cluster_scaled` as `ex_kmeans`.\n",
    "##### We will be using `ex_cluster_scaled` in other clustering models as well.\n",
    "##### Plot the two variables from `ex_kmeans` to see their interactions. \n",
    "##### Plot `Sodium (mg)` as `y` and `Calories` as `x`."
   ]
  },
  {
   "cell_type": "code",
   "execution_count": 161,
   "metadata": {},
   "outputs": [],
   "source": [
    "ex_kmeans = ex_cluster_scaled"
   ]
  },
  {
   "cell_type": "code",
   "execution_count": 162,
   "metadata": {},
   "outputs": [
    {
     "data": {
      "text/plain": [
       "Text(0, 0.5, 'Sodium (mg)')"
      ]
     },
     "execution_count": 162,
     "metadata": {},
     "output_type": "execute_result"
    },
    {
     "data": {
      "image/png": "[encoded data removed]",
      "text/plain": [
       "<Figure size 432x288 with 1 Axes>"
      ]
     },
     "metadata": {
      "needs_background": "light"
     },
     "output_type": "display_data"
    }
   ],
   "source": [
    "plt.scatter(ex_kmeans['Calories'], ex_kmeans['Sodium (mg)'], label = 'True Position')\n",
    "\n",
    "plt.title('Sodium (mg) vs Calories')\n",
    "plt.xlabel('Calories')\n",
    "plt.ylabel('Sodium (mg)')"
   ]
  },
  {
   "cell_type": "markdown",
   "metadata": {},
   "source": [
    "#### Answer: "
   ]
  },
  {
   "cell_type": "markdown",
   "metadata": {},
   "source": [
    "#### Question 6\n",
    "\n",
    "##### Let's find an optimal K. \n",
    "##### Initialize the k-means with 2 clusters and name it `ex_kmeans_2`. \n",
    "##### Fit `ex_kmeans_2` with `ex_kmeans`. \n",
    "##### Predict the clusters with `ex_kmeans_2` and name the outputs as `labels`. \n",
    "##### Get the cluster centers and name it as `C_2`. \n",
    "##### Print `C_2` to see what it looks like. \n"
   ]
  },
  {
   "cell_type": "markdown",
   "metadata": {},
   "source": [
    "#### Answer: "
   ]
  },
  {
   "cell_type": "code",
   "execution_count": 163,
   "metadata": {},
   "outputs": [
    {
     "name": "stdout",
     "output_type": "stream",
     "text": [
      "[[0.25338085 0.28157403]\n",
      " [0.64658945 0.64777712]]\n"
     ]
    }
   ],
   "source": [
    "ex_kmeans_2 = KMeans(n_clusters=2)\n",
    "ex_kmeans_2 = ex_kmeans_2.fit(ex_kmeans)\n",
    "\n",
    "labels = ex_kmeans_2.predict(ex_kmeans)\n",
    "\n",
    "C_2 = ex_kmeans_2.cluster_centers_\n",
    "print(C_2)"
   ]
  },
  {
   "cell_type": "markdown",
   "metadata": {},
   "source": [
    "#### Question 7\n",
    "\n",
    "##### Plot the data with clusters colored in and each centroid plotted."
   ]
  },
  {
   "cell_type": "code",
   "execution_count": 164,
   "metadata": {},
   "outputs": [
    {
     "data": {
      "text/plain": [
       "<matplotlib.collections.PathCollection at 0x7fbb57a230a0>"
      ]
     },
     "execution_count": 164,
     "metadata": {},
     "output_type": "execute_result"
    },
    {
     "data": {
      "image/png": "[encoded data removed]",
      "text/plain": [
       "<Figure size 432x288 with 1 Axes>"
      ]
     },
     "metadata": {
      "needs_background": "light"
     },
     "output_type": "display_data"
    }
   ],
   "source": [
    "# First, we plot our clusters, colored in by the labels.\n",
    "plt.scatter(ex_kmeans.iloc[:,0],            \n",
    "            ex_kmeans.iloc[:,1], \n",
    "            c=ex_kmeans_2.labels_, \n",
    "            cmap='rainbow')\n",
    "\n",
    "# Second, we plot the optimized centroids over the clusters.\n",
    "plt.scatter(C_2[:, 0], \n",
    "            C_2[:, 1], \n",
    "            c='black', \n",
    "            s=200, \n",
    "            alpha=0.5)"
   ]
  },
  {
   "cell_type": "markdown",
   "metadata": {},
   "source": [
    "#### Answer: "
   ]
  },
  {
   "cell_type": "markdown",
   "metadata": {},
   "source": [
    "## Exercise 2"
   ]
  },
  {
   "cell_type": "markdown",
   "metadata": {},
   "source": [
    "#### Question 1\n",
    "\n",
    "#####  Get the metrics we need for building an elbow plot.\n",
    "##### The range for K should be from 1 to 20. "
   ]
  },
  {
   "cell_type": "markdown",
   "metadata": {},
   "source": [
    "#### Answer: "
   ]
  },
  {
   "cell_type": "code",
   "execution_count": 165,
   "metadata": {},
   "outputs": [],
   "source": [
    "# Set the range of k.\n",
    "K_MAX = 20\n",
    "KK = range(1, K_MAX + 1)\n",
    "\n",
    "# Run `kmeans` for values in the range k = 1-20.\n",
    "KM = [kmeans(ex_kmeans, k) for k in KK]\n",
    "\n",
    "# Find the centroids for each KM output. \n",
    "centroids = [cent for (cent,var) in KM]\n",
    "\n",
    "# Calculate centroids for each iteration of k. \n",
    "D_k = [cdist(ex_kmeans, cent, 'euclidean') for cent in centroids]\n",
    "cIdx = [np.argmin(D, axis = 1) for D in D_k]\n",
    "dist = [np.min(D, axis = 1) for D in D_k]\n",
    "\n",
    "tot_withinss = [sum(d**2) for d in dist]                        # Total within-cluster sum of squares\n",
    "totss = sum(pdist(ex_kmeans)**2) / ex_kmeans.shape[0]           # The total sum of squares\n",
    "betweenss = totss - tot_withinss                                # The between-cluster sum of squares"
   ]
  },
  {
   "cell_type": "markdown",
   "metadata": {},
   "source": [
    "#### Question 2\n",
    "##### Build an elbow curve plot for KMeans clustering and find the optimal K. "
   ]
  },
  {
   "cell_type": "markdown",
   "metadata": {},
   "source": [
    "#### Answer: "
   ]
  },
  {
   "cell_type": "code",
   "execution_count": 166,
   "metadata": {},
   "outputs": [
    {
     "data": {
      "text/plain": [
       "Text(0.5, 1.0, 'Elbow for KMeans clustering')"
      ]
     },
     "execution_count": 166,
     "metadata": {},
     "output_type": "execute_result"
    },
    {
     "data": {
      "image/png": "[encoded data removed]",
      "text/plain": [
       "<Figure size 432x288 with 1 Axes>"
      ]
     },
     "metadata": {
      "needs_background": "light"
     },
     "output_type": "display_data"
    }
   ],
   "source": [
    "# Set range for k.\n",
    "kIdx = 2        # K=3\n",
    "clr = cm.Spectral( np.linspace(0,1,10) ).tolist()\n",
    "mrk = 'os^p<dvh8>+x.'\n",
    "\n",
    "# Elbow curve - explained variance.\n",
    "fig = plt.figure()\n",
    "ax = fig.add_subplot(111)\n",
    "ax.plot(KK, betweenss/totss*100, 'b*-')\n",
    "ax.plot(KK[kIdx], betweenss[kIdx]/totss*100, marker='o', markersize=12, \n",
    "        markeredgewidth=2, markeredgecolor='r', markerfacecolor='None')\n",
    "ax.set_ylim((0,100))\n",
    "plt.grid(True)\n",
    "plt.xlabel('Number of clusters')\n",
    "plt.ylabel('Percentage of variance explained (%)')\n",
    "plt.title('Elbow for KMeans clustering')"
   ]
  },
  {
   "cell_type": "markdown",
   "metadata": {},
   "source": [
    "#### Question 3\n",
    "##### Now try the silhouette method to find the optimal number of `k`."
   ]
  },
  {
   "cell_type": "markdown",
   "metadata": {},
   "source": [
    "#### Answer:"
   ]
  },
  {
   "cell_type": "code",
   "execution_count": 167,
   "metadata": {},
   "outputs": [
    {
     "data": {
      "image/png": "[encoded data removed]",
      "text/plain": [
       "<Figure size 432x288 with 1 Axes>"
      ]
     },
     "metadata": {
      "needs_background": "light"
     },
     "output_type": "display_data"
    },
    {
     "name": "stdout",
     "output_type": "stream",
     "text": [
      "Optimal number of components is: 2\n"
     ]
    }
   ],
   "source": [
    "obs = ex_kmeans\n",
    "silhouette_score_values=list()\n",
    "\n",
    "NumberOfClusters = range(2,30)\n",
    "\n",
    "for i in NumberOfClusters:\n",
    "\n",
    "    classifier=cluster.KMeans(i,init='k-means++', n_init=10, \n",
    "                              max_iter=300, \n",
    "                              tol=0.0001, \n",
    "                              verbose=0, \n",
    "                              random_state=None, \n",
    "                              copy_x=True)\n",
    "    classifier.fit(obs)\n",
    "    labels= classifier.predict(obs)\n",
    "    sklearn.metrics.silhouette_score(obs,labels ,metric='euclidean', sample_size=None, random_state=None)\n",
    "    silhouette_score_values.append(sklearn.metrics.silhouette_score(obs,labels ,metric='euclidean', sample_size=None, random_state=None))\n",
    "\n",
    "plt.plot(NumberOfClusters, silhouette_score_values)\n",
    "plt.title(\"Silhouette score values vs Numbers of Clusters \")\n",
    "plt.show()     \n",
    "\n",
    "Optimal_NumberOf_Components=NumberOfClusters[silhouette_score_values.index(max(silhouette_score_values))]\n",
    "\n",
    "print(\"Optimal number of components is:\", Optimal_NumberOf_Components)"
   ]
  },
  {
   "cell_type": "markdown",
   "metadata": {},
   "source": [
    "#### Question 4\n",
    "##### Print the explained variance for both k = 2 and the optimal k and compare."
   ]
  },
  {
   "cell_type": "markdown",
   "metadata": {},
   "source": [
    "#### Answer: "
   ]
  },
  {
   "cell_type": "code",
   "execution_count": 168,
   "metadata": {},
   "outputs": [
    {
     "name": "stdout",
     "output_type": "stream",
     "text": [
      "59.16868866450529\n",
      "74.71843294228522\n"
     ]
    }
   ],
   "source": [
    "# Explained variance for optimal number of clusters at `k = 2`.\n",
    "print(betweenss[1]/totss * 100)\n",
    "\n",
    "# Explained variance for optimal number of clusters at `k = 5`.\n",
    "print(betweenss[2]/totss * 100)"
   ]
  },
  {
   "cell_type": "markdown",
   "metadata": {},
   "source": [
    "#### Question 5\n",
    "##### Initiate a new k-means cluster classifier and name it `ex_kmeans_K`, with K being the optimal number of clusters as 3.\n",
    "##### Fit `ex_kmeans_K` and use the model to predict clusters and store them in a list called `labels`. \n",
    "\n",
    "##### Plot a scatterplot with the optimal number of clusters shown in different colors.\n",
    "##### Plot the optimized centroids over the clusters.\n"
   ]
  },
  {
   "cell_type": "markdown",
   "metadata": {},
   "source": [
    "#### Answer: "
   ]
  },
  {
   "cell_type": "code",
   "execution_count": 169,
   "metadata": {},
   "outputs": [],
   "source": [
    "ex_kmeans_3 = KMeans(n_clusters = 3)\n",
    "ex_kmeans_3 = ex_kmeans_3.fit(ex_kmeans)\n",
    "labels = ex_kmeans_3.predict(ex_kmeans)\n",
    "C_3 = ex_kmeans_3.cluster_centers_"
   ]
  },
  {
   "cell_type": "code",
   "execution_count": 170,
   "metadata": {},
   "outputs": [
    {
     "data": {
      "text/plain": [
       "<matplotlib.collections.PathCollection at 0x7fbb597d8b80>"
      ]
     },
     "execution_count": 170,
     "metadata": {},
     "output_type": "execute_result"
    },
    {
     "data": {
      "image/png": "[encoded data removed]",
      "text/plain": [
       "<Figure size 432x288 with 1 Axes>"
      ]
     },
     "metadata": {
      "needs_background": "light"
     },
     "output_type": "display_data"
    }
   ],
   "source": [
    "plt.scatter(ex_kmeans.iloc[:,0],            \n",
    "            ex_kmeans.iloc[:,1], \n",
    "            c = ex_kmeans_3.labels_, \n",
    "            cmap = 'rainbow')\n",
    "\n",
    "\n",
    "plt.scatter(C_3[:, 0], \n",
    "            C_3[:, 1], \n",
    "            c = 'black', \n",
    "            s = 200, \n",
    "            alpha = 0.5)"
   ]
  },
  {
   "cell_type": "markdown",
   "metadata": {},
   "source": [
    "#### Question 6\n",
    "##### Create a new dataframe named `clustered_ex` and populate with all the columns from `ex_cluster_scaled`. \n",
    "##### Append the list of predicted cluster, `labels`, to the `clustered_ex` dataframe. \n",
    "##### Print the `clustered_ex` dataframe to inspect the clusters."
   ]
  },
  {
   "cell_type": "markdown",
   "metadata": {},
   "source": [
    "#### Answer: "
   ]
  },
  {
   "cell_type": "code",
   "execution_count": 171,
   "metadata": {},
   "outputs": [],
   "source": [
    "clustered_ex = ex_cluster_scaled.copy()\n",
    "clustered_ex['cluster'] = pd.Series(labels)"
   ]
  },
  {
   "cell_type": "code",
   "execution_count": 172,
   "metadata": {},
   "outputs": [
    {
     "data": {
      "text/html": [
       "<div>\n",
       "<style scoped>\n",
       "    .dataframe tbody tr th:only-of-type {\n",
       "        vertical-align: middle;\n",
       "    }\n",
       "\n",
       "    .dataframe tbody tr th {\n",
       "        vertical-align: top;\n",
       "    }\n",
       "\n",
       "    .dataframe thead th {\n",
       "        text-align: right;\n",
       "    }\n",
       "</style>\n",
       "<table border=\"1\" class=\"dataframe\">\n",
       "  <thead>\n",
       "    <tr style=\"text-align: right;\">\n",
       "      <th></th>\n",
       "      <th>Calories</th>\n",
       "      <th>Sodium (mg)</th>\n",
       "      <th>cluster</th>\n",
       "    </tr>\n",
       "  </thead>\n",
       "  <tbody>\n",
       "    <tr>\n",
       "      <th>0</th>\n",
       "      <td>0.099099</td>\n",
       "      <td>0.178423</td>\n",
       "      <td>0</td>\n",
       "    </tr>\n",
       "    <tr>\n",
       "      <th>1</th>\n",
       "      <td>0.144144</td>\n",
       "      <td>0.261411</td>\n",
       "      <td>0</td>\n",
       "    </tr>\n",
       "    <tr>\n",
       "      <th>2</th>\n",
       "      <td>0.360360</td>\n",
       "      <td>0.377593</td>\n",
       "      <td>1</td>\n",
       "    </tr>\n",
       "    <tr>\n",
       "      <th>3</th>\n",
       "      <td>0.351351</td>\n",
       "      <td>0.435685</td>\n",
       "      <td>1</td>\n",
       "    </tr>\n",
       "    <tr>\n",
       "      <th>4</th>\n",
       "      <td>0.531532</td>\n",
       "      <td>0.589212</td>\n",
       "      <td>1</td>\n",
       "    </tr>\n",
       "  </tbody>\n",
       "</table>\n",
       "</div>"
      ],
      "text/plain": [
       "   Calories  Sodium (mg)  cluster\n",
       "0  0.099099     0.178423        0\n",
       "1  0.144144     0.261411        0\n",
       "2  0.360360     0.377593        1\n",
       "3  0.351351     0.435685        1\n",
       "4  0.531532     0.589212        1"
      ]
     },
     "execution_count": 172,
     "metadata": {},
     "output_type": "execute_result"
    }
   ],
   "source": [
    "clustered_ex.head()"
   ]
  },
  {
   "cell_type": "markdown",
   "metadata": {},
   "source": [
    "#### Question 7\n",
    "##### Group the `clustered_ex` dataframe by `cluster` to see the group mean of each variable.\n",
    "##### Name the new dataframe as `ex_cluster_groups_means`. \n",
    "##### Print `ex_cluster_groups_means` to inspect each clusters.\n"
   ]
  },
  {
   "cell_type": "markdown",
   "metadata": {},
   "source": [
    "#### Answer: "
   ]
  },
  {
   "cell_type": "code",
   "execution_count": 173,
   "metadata": {},
   "outputs": [
    {
     "data": {
      "text/html": [
       "<div>\n",
       "<style scoped>\n",
       "    .dataframe tbody tr th:only-of-type {\n",
       "        vertical-align: middle;\n",
       "    }\n",
       "\n",
       "    .dataframe tbody tr th {\n",
       "        vertical-align: top;\n",
       "    }\n",
       "\n",
       "    .dataframe thead th {\n",
       "        text-align: right;\n",
       "    }\n",
       "</style>\n",
       "<table border=\"1\" class=\"dataframe\">\n",
       "  <thead>\n",
       "    <tr style=\"text-align: right;\">\n",
       "      <th></th>\n",
       "      <th>Calories</th>\n",
       "      <th>Sodium (mg)</th>\n",
       "    </tr>\n",
       "    <tr>\n",
       "      <th>cluster</th>\n",
       "      <th></th>\n",
       "      <th></th>\n",
       "    </tr>\n",
       "  </thead>\n",
       "  <tbody>\n",
       "    <tr>\n",
       "      <th>0</th>\n",
       "      <td>0.205558</td>\n",
       "      <td>0.199142</td>\n",
       "    </tr>\n",
       "    <tr>\n",
       "      <th>1</th>\n",
       "      <td>0.399249</td>\n",
       "      <td>0.471352</td>\n",
       "    </tr>\n",
       "    <tr>\n",
       "      <th>2</th>\n",
       "      <td>0.757705</td>\n",
       "      <td>0.732693</td>\n",
       "    </tr>\n",
       "  </tbody>\n",
       "</table>\n",
       "</div>"
      ],
      "text/plain": [
       "         Calories  Sodium (mg)\n",
       "cluster                       \n",
       "0        0.205558     0.199142\n",
       "1        0.399249     0.471352\n",
       "2        0.757705     0.732693"
      ]
     },
     "execution_count": 173,
     "metadata": {},
     "output_type": "execute_result"
    }
   ],
   "source": [
    "ex_cluster_groups_means = clustered_ex.groupby('cluster').mean()\n",
    "ex_cluster_groups_means"
   ]
  },
  {
   "cell_type": "code",
   "execution_count": null,
   "metadata": {},
   "outputs": [],
   "source": []
  }
 ],
 "metadata": {
  "kernelspec": {
   "display_name": "Python 3",
   "language": "python",
   "name": "python3"
  },
  "language_info": {
   "codemirror_mode": {
    "name": "ipython",
    "version": 3
   },
   "file_extension": ".py",
   "mimetype": "text/x-python",
   "name": "python",
   "nbconvert_exporter": "python",
   "pygments_lexer": "ipython3",
   "version": "3.8.5"
  }
 },
 "nbformat": 4,
 "nbformat_minor": 4
}
